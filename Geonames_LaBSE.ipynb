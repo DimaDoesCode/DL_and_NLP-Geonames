{
 "cells": [
  {
   "cell_type": "markdown",
   "id": "768a6699",
   "metadata": {
    "jp-MarkdownHeadingCollapsed": true,
    "slideshow": {
     "slide_type": ""
    },
    "tags": []
   },
   "source": [
    "# Решение для сопоставления геоназваний с унифицированными именами The GeoNames geographical database."
   ]
  },
  {
   "cell_type": "markdown",
   "id": "5a0760a6",
   "metadata": {},
   "source": [
    "<div align=\"center\"><font size=\"4\"><b>Для Карьерного центра Яндекс Практикум.</b></font><br>"
   ]
  },
  {
   "cell_type": "markdown",
   "id": "4c829fe1",
   "metadata": {},
   "source": [
    "<div align=\"right\"><font size=\"4\">DimaDoesCode</font><br>\n",
    "<font size=\"3\">December 19th, 2023</font></div>"
   ]
  },
  {
   "cell_type": "markdown",
   "id": "2030454c",
   "metadata": {
    "toc": true
   },
   "source": [
    "<h1>Содержание.<span class=\"tocSkip\"></span></h1>\n",
    "<div class=\"toc\"><ul class=\"toc-item\"><li><span><a href=\"#Постановка-задачи.\" data-toc-modified-id=\"Постановка-задачи.-1\"><span class=\"toc-item-num\">1&nbsp;&nbsp;</span>Постановка задачи.</a></span></li><li><span><a href=\"#Предлагаемый-подход-к-решению.\" data-toc-modified-id=\"Предлагаемый-подход-к-решению.-2\"><span class=\"toc-item-num\">2&nbsp;&nbsp;</span>Предлагаемый подход к решению.</a></span></li><li><span><a href=\"#Настройка-проекта.\" data-toc-modified-id=\"Настройка-проекта.-3\"><span class=\"toc-item-num\">3&nbsp;&nbsp;</span>Настройка проекта.</a></span><ul class=\"toc-item\"><li><span><a href=\"#Импорт-библиотек,-модулей,-классов-и-функций.\" data-toc-modified-id=\"Импорт-библиотек,-модулей,-классов-и-функций.-3.1\"><span class=\"toc-item-num\">3.1&nbsp;&nbsp;</span>Импорт библиотек, модулей, классов и функций.</a></span></li><li><span><a href=\"#Настройка-окружения-и-глобальные-переменные.\" data-toc-modified-id=\"Настройка-окружения-и-глобальные-переменные.-3.2\"><span class=\"toc-item-num\">3.2&nbsp;&nbsp;</span>Настройка окружения и глобальные переменные.</a></span><ul class=\"toc-item\"><li><span><a href=\"#Пользовательские-переменные.\" data-toc-modified-id=\"Пользовательские-переменные.-3.2.1\"><span class=\"toc-item-num\">3.2.1&nbsp;&nbsp;</span>Пользовательские переменные.</a></span></li><li><span><a href=\"#Системные-переменные.\" data-toc-modified-id=\"Системные-переменные.-3.2.2\"><span class=\"toc-item-num\">3.2.2&nbsp;&nbsp;</span>Системные переменные.</a></span></li></ul></li><li><span><a href=\"#Пользовательские-функции.\" data-toc-modified-id=\"Пользовательские-функции.-3.3\"><span class=\"toc-item-num\">3.3&nbsp;&nbsp;</span>Пользовательские функции.</a></span><ul class=\"toc-item\"><li><span><a href=\"#my_get_similar.-NCRCS-Функция-(name,-code,-region,-country,-similarity).\" data-toc-modified-id=\"my_get_similar.-NCRCS-Функция-(name,-code,-region,-country,-similarity).-3.3.1\"><span class=\"toc-item-num\">3.3.1&nbsp;&nbsp;</span>my_get_similar. NCRCS Функция (name, code, region, country, similarity).</a></span></li><li><span><a href=\"#my_datafame_info.-Обзор-DataFrame.\" data-toc-modified-id=\"my_datafame_info.-Обзор-DataFrame.-3.3.2\"><span class=\"toc-item-num\">3.3.2&nbsp;&nbsp;</span>my_datafame_info. Обзор DataFrame.</a></span></li><li><span><a href=\"#my_accuracy_score.-Метрика-проекта.\" data-toc-modified-id=\"my_accuracy_score.-Метрика-проекта.-3.3.3\"><span class=\"toc-item-num\">3.3.3&nbsp;&nbsp;</span>my_accuracy_score. Метрика проекта.</a></span></li><li><span><a href=\"#my_predict.-DataFrame-предсказаний.\" data-toc-modified-id=\"my_predict.-DataFrame-предсказаний.-3.3.4\"><span class=\"toc-item-num\">3.3.4&nbsp;&nbsp;</span>my_predict. DataFrame предсказаний.</a></span></li></ul></li></ul></li><li><span><a href=\"#Загрузка-данных.\" data-toc-modified-id=\"Загрузка-данных.-4\"><span class=\"toc-item-num\">4&nbsp;&nbsp;</span>Загрузка данных.</a></span><ul class=\"toc-item\"><li><span><a href=\"#Файл-countryInfo.txt.\" data-toc-modified-id=\"Файл-countryInfo.txt.-4.1\"><span class=\"toc-item-num\">4.1&nbsp;&nbsp;</span>Файл <code>countryInfo.txt</code>.</a></span></li><li><span><a href=\"#Файл-cities15000.txt.\" data-toc-modified-id=\"Файл-cities15000.txt.-4.2\"><span class=\"toc-item-num\">4.2&nbsp;&nbsp;</span>Файл <code>cities15000.txt</code>.</a></span></li><li><span><a href=\"#Файл-admin1CodesASCII.txt.\" data-toc-modified-id=\"Файл-admin1CodesASCII.txt.-4.3\"><span class=\"toc-item-num\">4.3&nbsp;&nbsp;</span>Файл <code>admin1CodesASCII.txt</code>.</a></span></li></ul></li><li><span><a href=\"#Исследовательский-анализ-данных.\" data-toc-modified-id=\"Исследовательский-анализ-данных.-5\"><span class=\"toc-item-num\">5&nbsp;&nbsp;</span>Исследовательский анализ данных.</a></span><ul class=\"toc-item\"><li><span><a href=\"#countries-DataFrame.\" data-toc-modified-id=\"countries-DataFrame.-5.1\"><span class=\"toc-item-num\">5.1&nbsp;&nbsp;</span><code>countries</code> DataFrame.</a></span></li><li><span><a href=\"#cities15000-DataFrame.\" data-toc-modified-id=\"cities15000-DataFrame.-5.2\"><span class=\"toc-item-num\">5.2&nbsp;&nbsp;</span><code>cities15000</code> DataFrame.</a></span></li><li><span><a href=\"#admin_codes-DataFrame.\" data-toc-modified-id=\"admin_codes-DataFrame.-5.3\"><span class=\"toc-item-num\">5.3&nbsp;&nbsp;</span><code>admin_codes</code> DataFrame.</a></span></li></ul></li><li><span><a href=\"#Объединение-таблиц.\" data-toc-modified-id=\"Объединение-таблиц.-6\"><span class=\"toc-item-num\">6&nbsp;&nbsp;</span>Объединение таблиц.</a></span></li><li><span><a href=\"#Фильтрация-по-заданному-списку-стран.\" data-toc-modified-id=\"Фильтрация-по-заданному-списку-стран.-7\"><span class=\"toc-item-num\">7&nbsp;&nbsp;</span>Фильтрация по заданному списку стран.</a></span></li><li><span><a href=\"#Fine-Tuning-моделей.\" data-toc-modified-id=\"Fine-Tuning-моделей.-8\"><span class=\"toc-item-num\">8&nbsp;&nbsp;</span>Fine Tuning моделей.</a></span></li><li><span><a href=\"#Тестирование-моделей.\" data-toc-modified-id=\"Тестирование-моделей.-9\"><span class=\"toc-item-num\">9&nbsp;&nbsp;</span>Тестирование моделей.</a></span><ul class=\"toc-item\"><li><span><a href=\"#Подключение-к-Postgres.\" data-toc-modified-id=\"Подключение-к-Postgres.-9.1\"><span class=\"toc-item-num\">9.1&nbsp;&nbsp;</span>Подключение к Postgres.</a></span></li><li><span><a href=\"#Подготовка-данных.\" data-toc-modified-id=\"Подготовка-данных.-9.2\"><span class=\"toc-item-num\">9.2&nbsp;&nbsp;</span>Подготовка данных.</a></span></li><li><span><a href=\"#Оценка-метрик-моделей.\" data-toc-modified-id=\"Оценка-метрик-моделей.-9.3\"><span class=\"toc-item-num\">9.3&nbsp;&nbsp;</span>Оценка метрик моделей.</a></span></li><li><span><a href=\"#Загрузка-лучшей-модели-и-эмбеддингов.\" data-toc-modified-id=\"Загрузка-лучшей-модели-и-эмбеддингов.-9.4\"><span class=\"toc-item-num\">9.4&nbsp;&nbsp;</span>Загрузка лучшей модели и эмбеддингов.</a></span></li><li><span><a href=\"#Сохранение-DataFrames-в-Postgres.\" data-toc-modified-id=\"Сохранение-DataFrames-в-Postgres.-9.5\"><span class=\"toc-item-num\">9.5&nbsp;&nbsp;</span>Сохранение DataFrames в Postgres.</a></span></li></ul></li><li><span><a href=\"#Демонстрация-работы-модели.\" data-toc-modified-id=\"Демонстрация-работы-модели.-10\"><span class=\"toc-item-num\">10&nbsp;&nbsp;</span>Демонстрация работы модели.</a></span><ul class=\"toc-item\"><li><span><a href=\"#Вывод-в-наглядном-виде-DataFrame.\" data-toc-modified-id=\"Вывод-в-наглядном-виде-DataFrame.-10.1\"><span class=\"toc-item-num\">10.1&nbsp;&nbsp;</span>Вывод в наглядном виде DataFrame.</a></span></li><li><span><a href=\"#Вывод-согласно-Техническому-Заданию.\" data-toc-modified-id=\"Вывод-согласно-Техническому-Заданию.-10.2\"><span class=\"toc-item-num\">10.2&nbsp;&nbsp;</span>Вывод согласно Техническому Заданию.</a></span></li></ul></li><li><span><a href=\"#Общий-вывод-и-рекомендации.\" data-toc-modified-id=\"Общий-вывод-и-рекомендации.-11\"><span class=\"toc-item-num\">11&nbsp;&nbsp;</span>Общий вывод и рекомендации.</a></span><ul class=\"toc-item\"><li><span><a href=\"#Общий-вывод.\" data-toc-modified-id=\"Общий-вывод.-11.1\"><span class=\"toc-item-num\">11.1&nbsp;&nbsp;</span>Общий вывод.</a></span></li><li><span><a href=\"#Рекомендации.\" data-toc-modified-id=\"Рекомендации.-11.2\"><span class=\"toc-item-num\">11.2&nbsp;&nbsp;</span>Рекомендации.</a></span></li><li><span><a href=\"#Улучшения-и-перспективы.\" data-toc-modified-id=\"Улучшения-и-перспективы.-11.3\"><span class=\"toc-item-num\">11.3&nbsp;&nbsp;</span>Улучшения и перспективы.</a></span></li></ul></li></ul></div>"
   ]
  },
  {
   "cell_type": "markdown",
   "id": "8071665c",
   "metadata": {},
   "source": [
    "## Постановка задачи.\n",
    "\n"
   ]
  },
  {
   "cell_type": "markdown",
   "id": "d79c2dbb",
   "metadata": {},
   "source": [
    "<img src=\"https://s3.amazonaws.com/thumbnails.illustrationsource.com/huge.9.46271.JPG\" width=\"200\" align=\"right\"/> \n",
    "<font size=\"4\"><b>Заказчик.</b></font></br></br>\n",
    "Карьерный центр Яндекс Практикум.</br>\n",
    "\n",
    "<font size=\"4\"><b>Описание проекта.</b></font></br></br>\n",
    "<b>Цель:</b>\n",
    "- Сопоставление произвольных гео названий с унифицированными именами geonames для внутреннего использования Карьерным центром.\n",
    "\n",
    "<b>Задачи:</b>\n",
    "- Создать решение для подбора наиболее подходящих названий с geonames. Например Ереван -> Yerevan;\n",
    "- На примере РФ и стран наиболее популярных для релокации - Беларусь, Армения, Казахстан, Кыргызстан, Турция, Сербия. Города с населением от 15000 человек (с возможностью масштабирования на сервере заказчика);\n",
    "- Возвращаемые поля geonameid, name, region, country, cosine similarity;\n",
    "- Формат данных на выходе: список словарей, например `[{dict_1}, {dict_2}, …. {dict_n}]` где словарь - одна запись с указанными полями.\n",
    "\n",
    "<b>Задачи опционально:</b>\n",
    "- Возможность настройки количества выдачи подходящих названий (например в параметрах метода);\n",
    "- Коррекция ошибок и опечаток. Например Моченгорск -> Monchegorsk;\n",
    "- Хранение в PostgreSQL данных geonames;\n",
    "- Хранение векторизованных промежуточных данных в PostgreSQL;\n",
    "- Предусмотреть методы для настройки подключения к БД;\n",
    "- Предусмотреть метод для инициализации класса (первичная векторизация geonames);\n",
    "- Предусмотреть методы для добавления векторов новых гео названий.\n",
    "\n",
    "<font size=\"4\"><b>Используемый стек технологий.</b></font></br>\n",
    "- Библиотеки для ML: SQL, Pandas, NLP, Transformers\n",
    "\n",
    "<font size=\"4\"><b>Результат.</b></font></br>\n",
    "- Тетрадка с решением задачи (описание проекта, исследование, методы решения);\n",
    "- python-скрипт, содержащий функцию (класс), для интеграции в систему Заказчика."
   ]
  },
  {
   "cell_type": "markdown",
   "id": "fa189512",
   "metadata": {},
   "source": [
    "\n",
    "\n",
    "<font size=\"4\"><b>Описание данных.</b></font></br></br>\n",
    "<b>Используемые таблицы The GeoNames geographical database:</b>\n",
    "- admin1CodesASCII;\n",
    "- alternateNamesV2;\n",
    "- cities15000;\n",
    "- countryInfo;\n",
    "- При необходимости любые другие открытые данные;\n",
    "- Таблицы geonames можно скачать [здесь](http://download.geonames.org/export/dump/);\n",
    "- [Тестовый датасет](https://disk.yandex.ru/d/wC296Rj3Yso2AQ).\n",
    "\n",
    "<b>Файл `cities15000.txt`</b></br>\n",
    "[Скачать файл](https://download.geonames.org/export/dump/cities15000.zip)\n",
    "<pre>geonameid         : целочисленный идентификатор записи в базе данных geonames\n",
    "name              : название географической точки (в формате utf8), varchar(200)\n",
    "asciiname         : название географической точки в чистом формате ASCII, varchar(200)\n",
    "alternatenames    : альтернативные названия, через запятую, автоматически транслитерированные в ASCII, удобный атрибут из таблицы alternatename, varchar(10000)\n",
    "latitude          : широта в десятичных градусах (wgs84)\n",
    "longitude         : долгота в десятичных градусах (wgs84)\n",
    "feature class     : см. http://www.geonames.org/export/codes.html, char(1)\n",
    "feature code      : см. http://www.geonames.org/export/codes.html, varchar(10)\n",
    "country code      : ISO-3166 2-буквенный код страны, 2 символа\n",
    "cc2               : альтернативные коды стран, через запятую, ISO-3166 2-буквенный код страны, 200 символов\n",
    "admin1 code       : код административного деления первого уровня, fipscode (может быть изменено на iso code), см. исключения ниже, см. файл admin1Codes.txt для отображения имен этого кода; varchar(20)\n",
    "admin2 code       : код для второго административного деления, каунти в США, см. файл admin2Codes.txt; varchar(80)\n",
    "admin3 code       : код для административного деления третьего уровня, varchar(20)\n",
    "admin4 code       : код для административного деления четвертого уровня, varchar(20)\n",
    "population        : bigint (8-байтное целое число)\n",
    "elevation         : в метрах, целое число\n",
    "dem               : цифровая модель рельефа, srtm3 или gtopo30, средняя высота области 3''x3'' (примерно 90м х 90м) или 30''x30'' (примерно 900м х 900м) в метрах, целое число. srtm обработано cgiar/ciat.\n",
    "timezone          : идентификатор временной зоны IANA (см. файл timeZone.txt), varchar(40)\n",
    "modification date : дата последнего изменения в формате yyyy-MM-dd</pre>\n",
    "\n",
    "<b>Файл `countryInfo.txt`</b></br>\n",
    "[Скачать файл](https://download.geonames.org/export/dump/countryInfo.txt)\n",
    "<pre>Страновая информация включает в себя следующие данные: ISO-коды, FIPS-коды, языки, столицу и др. </pre>\n",
    "\n",
    "<b>Файл `admin1CodesASCII.txt`</b></br>\n",
    "[Скачать файл](https://download.geonames.org/export/dump/admin1CodesASCII.txt)\n",
    "<pre>code       : Код административного деления.\n",
    "name       : Название административного деления.\n",
    "name ascii : ASCII-представление названия административного деления.\n",
    "geonameid  : Целочисленный идентификатор записи в базе данных geonames. </pre>"
   ]
  },
  {
   "cell_type": "markdown",
   "id": "d98a2a0e",
   "metadata": {},
   "source": [
    "## Предлагаемый подход к решению."
   ]
  },
  {
   "cell_type": "markdown",
   "id": "b2679c6e",
   "metadata": {},
   "source": [
    "<font size=\"3\"><b>Решение задачи с использованием SentenceTransformer.</b></font></br>\n",
    "\n",
    "В ходе решения поставленной задачи выбран подход, включающий использование векторных представлений текста с помощью модели SentenceTransformer. Этот метод позволяет эффективно обрабатывать текстовую информацию о географических объектах, выявляя их семантические схожести.\n",
    "\n",
    "<font size=\"3\"><b>Выбор и обоснование модели.</b></font></br>\n",
    "\n",
    "Для осуществления предложенного решения выбрана предобученная модель SentenceTransformer LaBSE (Language-agnostic BERT Sentence Embedding). Этот выбор обусловлен многоязычной поддержкой (109 языков) и хорошей работой при поиске переводных пар.\n",
    "\n",
    "<font size=\"3\"><b>Дообучение модели.</b></font></br>\n",
    "\n",
    "С целью улучшения эффективности нашего решения, LaBSE дополнительно обучаестся на парах основных и альтернативных названий городов для всех доступных языков в geonames.\n",
    "\n",
    "<font size=\"3\"><b>Fine Tuning моделей.</b></font></br>\n",
    "\n",
    "На этапе дообучения проводится выбор лучшей модели на основе специально разработанной метрики accuracy, используя предоставленную тестовую выборку.\n",
    "\n",
    "<font size=\"3\"><b>Поиск семантических схожестей.</b></font></br>\n",
    "\n",
    "Основное решение предполагает поиск наименьшего косинусного расстояния между запросом и векторами эмбеддингов корпуса названий географических объектов. Полученные данные будут сохранены в базе данных PostgreSQL согласно требованиям Технического Задания."
   ]
  },
  {
   "cell_type": "markdown",
   "id": "f3aed050",
   "metadata": {},
   "source": [
    "## Настройка проекта."
   ]
  },
  {
   "cell_type": "markdown",
   "id": "95048995",
   "metadata": {},
   "source": [
    "### Импорт библиотек, модулей, классов и функций."
   ]
  },
  {
   "cell_type": "code",
   "execution_count": 1,
   "id": "ecad8ab2",
   "metadata": {},
   "outputs": [],
   "source": [
    "import random\n",
    "import warnings\n",
    "\n",
    "import numpy as np\n",
    "import pandas as pd\n",
    "import safetensors\n",
    "import seaborn as sns\n",
    "\n",
    "from IPython.display import Markdown, display\n",
    "from matplotlib import pyplot as plt, rcParams, rcParamsDefault\n",
    "from sentence_transformers import SentenceTransformer, util\n",
    "\n",
    "from sqlalchemy import create_engine, inspect\n",
    "from sqlalchemy.engine.url import URL"
   ]
  },
  {
   "cell_type": "markdown",
   "id": "99d93e22",
   "metadata": {},
   "source": [
    "### Настройка окружения и глобальные переменные."
   ]
  },
  {
   "cell_type": "markdown",
   "id": "f0af93d0",
   "metadata": {},
   "source": [
    "#### Пользовательские переменные."
   ]
  },
  {
   "cell_type": "code",
   "execution_count": 2,
   "id": "3a4f743a",
   "metadata": {},
   "outputs": [],
   "source": [
    "# Путь к директории с данными\n",
    "DATA = 'DATA/'\n",
    "\n",
    "# Параметры подключения к базе данных PostgreSQL\n",
    "DATABASE = {\n",
    "    'drivername': 'postgresql',\n",
    "    'username': 'postgres',\n",
    "    'password': 'postgres',\n",
    "    'host': 'localhost',\n",
    "    'port': 5432,\n",
    "    'database': 'postgres',\n",
    "    'query': {}\n",
    "}\n",
    "\n",
    "# Список выбранных ISO-кодов стран\n",
    "SELECTED_COUNTRY_CODES = ['RU', 'BY', 'KG', 'KZ', 'AM', 'TR', 'RS']"
   ]
  },
  {
   "cell_type": "markdown",
   "id": "1e056929",
   "metadata": {},
   "source": [
    "#### Системные переменные."
   ]
  },
  {
   "cell_type": "code",
   "execution_count": 3,
   "id": "35d5fd8a",
   "metadata": {},
   "outputs": [],
   "source": [
    "# Переменная для хранения векторных представлений корпуса данных\n",
    "CORPUS_EMBEDDINGS = None\n",
    "\n",
    "# Переменная для хранения объекта, выполняющего векторное кодирование\n",
    "EMBEDDER = None\n",
    "\n",
    "# Множитель для увеличения DPI\n",
    "FACTOR = 1\n",
    "\n",
    "# So Long, and Thanks for All the Fish\n",
    "RANDOM_STATE = 42\n",
    "\n",
    "# Настройки отображения чисел с плавающей точкой в pandas\n",
    "pd.options.display.float_format = '{:,.7f}'.format\n",
    "\n",
    "# Отображение всех символов в ячейках DataFrame\n",
    "pd.set_option('display.max_colwidth', None)\n",
    "\n",
    "# Отображение всех столбцов DataFrame\n",
    "pd.set_option('display.max_columns', None)\n",
    "\n",
    "# Отображение всех строк DataFrame\n",
    "pd.set_option('display.max_rows', None)\n",
    "\n",
    "# Извлечение стандартного значения DPI (точек на дюйм) из параметров rcParams\n",
    "default_dpi = rcParamsDefault['figure.dpi']\n",
    "\n",
    "# Установка нового значения DPI с учетом множителя FACTOR\n",
    "rcParams['figure.dpi'] = (default_dpi * FACTOR)\n",
    "\n",
    "# Установка размера фигуры для графиков\n",
    "rcParams['figure.figsize'] = 6, 4\n",
    "\n",
    "# Игнорирование предупреждений\n",
    "warnings.filterwarnings('ignore')\n",
    "warnings.simplefilter('ignore')\n",
    "\n",
    "# Установка зерна для генераторов случайных чисел в Python и библиотеках\n",
    "random.seed(RANDOM_STATE)\n",
    "np.random.seed(RANDOM_STATE)"
   ]
  },
  {
   "cell_type": "markdown",
   "id": "355c7ec9",
   "metadata": {},
   "source": [
    "### Пользовательские функции."
   ]
  },
  {
   "cell_type": "markdown",
   "id": "75bf1369",
   "metadata": {},
   "source": [
    "#### my_get_similar. NCRCS Функция (name, code, region, country, similarity)."
   ]
  },
  {
   "cell_type": "code",
   "execution_count": 4,
   "id": "15771570",
   "metadata": {},
   "outputs": [],
   "source": [
    "def my_get_similar(query, top_k=1, is_dictionary=False):\n",
    "    \"\"\"\n",
    "    Функция получает на вход запрос, выполняет семантический\n",
    "    поиск по векторам, возвращая наиболее похожие записи.\n",
    "\n",
    "    Параметры:\n",
    "    - query: Строка с текстом запроса.\n",
    "    - top_k: Количество наиболее похожих записей для \n",
    "      возвращения (по умолчанию 1).\n",
    "    - translate: Флаг для включения/выключения перевода\n",
    "      (по умолчанию False).\n",
    "\n",
    "    Возвращает:\n",
    "    - DataFrame с информацией о наиболее похожих записях,\n",
    "      включая название, код, регион, страну и степень схожести.\n",
    "    \"\"\"\n",
    "    \n",
    "    # Получение векторного представления запроса\n",
    "    query_embedding = EMBEDDER.encode(query, convert_to_tensor=False)\n",
    "\n",
    "    # Выполнение семантического поиска\n",
    "    hits = util.semantic_search(\n",
    "        query_embedding,\n",
    "        CORPUS_EMBEDDINGS,\n",
    "        top_k=top_k\n",
    "    )\n",
    "    hits = hits[0]\n",
    "\n",
    "    # Создание списка результатов\n",
    "    result_rows = []\n",
    "\n",
    "    # Обработка каждого найденного соответствия\n",
    "    for hit in hits:\n",
    "        # Выбор нужных столбцов для отображения в результатах\n",
    "        selected_columns = [\n",
    "            'name_city',\n",
    "            'concatenated_codes',\n",
    "            'name_admin',\n",
    "            'country'\n",
    "        ]\n",
    "\n",
    "        # Получение данных из DataFrame по идентификатору корпуса\n",
    "        result_row = selected_cities.loc[\n",
    "            hit['corpus_id'],\n",
    "            selected_columns\n",
    "        ].to_frame().T\n",
    "\n",
    "        # Добавление столбца 'Score' с оценкой схожести\n",
    "        result_row['Score'] = hit['score']\n",
    "        result_rows.append(result_row)\n",
    "\n",
    "    # Объединение результатов в единый DataFrame\n",
    "    result_df = pd.concat(result_rows, ignore_index=True)\n",
    "    \n",
    "    # Переименование столбцов для ясности\n",
    "    new_column_names = [\n",
    "        'name',\n",
    "        'code',\n",
    "        'region',\n",
    "        'country',\n",
    "        'similarity'\n",
    "    ]\n",
    "    result_df.columns = new_column_names\n",
    "    \n",
    "    # Возвращение результирующих данных\n",
    "    if is_dictionary:\n",
    "        return result_df.to_dict(orient='records')\n",
    "    else:\n",
    "        return result_df"
   ]
  },
  {
   "cell_type": "markdown",
   "id": "8ef10aae",
   "metadata": {},
   "source": [
    "#### my_datafame_info. Обзор DataFrame."
   ]
  },
  {
   "cell_type": "code",
   "execution_count": 5,
   "id": "e945facf",
   "metadata": {},
   "outputs": [],
   "source": [
    "def my_datafame_info(dataframe=None):\n",
    "    '''\n",
    "    Функция предназначена для анализа данных в DataFrame,\n",
    "    включая информацию, полученную с помощью методов\n",
    "    info, describe и sample.\n",
    "    Она отображает эту информацию с использованием\n",
    "    заголовков для лучшей читаемости.\n",
    "    '''\n",
    "    \n",
    "    # Функция для отображения информации с заголовком\n",
    "    def display_info(title, content):\n",
    "        display(Markdown(f'**{title}**'))\n",
    "        if content is not None:\n",
    "            display(content)\n",
    "\n",
    "    # Получаем статистическую информацию о данных с помощью метода describe\n",
    "    describe = dataframe.describe(include='all')\n",
    "    \n",
    "    # Получаем случайные 10 строк из данных\n",
    "    sample = dataframe.sample(10, random_state=RANDOM_STATE)\n",
    "\n",
    "    # Отображаем информацию о данных, полученную с помощью метода info\n",
    "    display_info('<br>Данные метода info():', None)\n",
    "    dataframe.info()\n",
    "    \n",
    "    # Отображаем статистическую информацию, полученную с помощью метода describe\n",
    "    display_info(\"<br>Данные метода describe(include='all'):\", describe)\n",
    "    \n",
    "    # Отображаем случайные 10 строк данных\n",
    "    display_info('<br>Данные метода sample(10, random_state=RANDOM_STATE):', sample)"
   ]
  },
  {
   "cell_type": "markdown",
   "id": "69f543ca",
   "metadata": {},
   "source": [
    "#### my_accuracy_score. Метрика проекта."
   ]
  },
  {
   "cell_type": "code",
   "execution_count": 6,
   "id": "3428bad2",
   "metadata": {},
   "outputs": [],
   "source": [
    "def my_accuracy_score(y_true, y_pred):\n",
    "    '''\n",
    "    Функция проходится по строкам обоих датафреймов, \n",
    "    и для каждой пары строк подсчитывается совпадение\n",
    "    и записывается в соответствующий столбец 'matches'.\n",
    "    Рассчитывается средняя точность (accuracy) путем \n",
    "    подсчета среднего значения столбца 'matches' в датафрейме y_true.\n",
    "    Результат точности возвращается из функции.\n",
    "    '''\n",
    "    \n",
    "    # Проверка входящих данных на идентичность размера\n",
    "    if y_true.shape != y_pred.shape:\n",
    "        raise ValueError('Размеры y_true и y_pred должны быть одинаковыми.')\n",
    "    \n",
    "    # Создаем список 'matches' для подсчета совпадений в каждом датафрейме\n",
    "    matches = []\n",
    "    \n",
    "    # Проходим по строкам обоих датафреймов и подсчитываем совпадения\n",
    "    for index, (true_row, pred_row) in enumerate(\n",
    "        zip(y_true.itertuples(index=False),\n",
    "            y_pred.itertuples(index=False)\n",
    "           )):\n",
    "        matches.append(1 if true_row == pred_row else 0)\n",
    "    \n",
    "    # Рассчитываем среднюю точность (долю совпадений)\n",
    "    accuracy = sum(matches) / len(matches)\n",
    "    return accuracy"
   ]
  },
  {
   "cell_type": "markdown",
   "id": "c006cfcd",
   "metadata": {},
   "source": [
    "#### my_predict. DataFrame предсказаний."
   ]
  },
  {
   "cell_type": "code",
   "execution_count": 7,
   "id": "047efcda",
   "metadata": {},
   "outputs": [],
   "source": [
    "def my_predict(queries):\n",
    "    '''\n",
    "    Функция для применения к каждому элементу Series и объединия результатов\n",
    "    '''\n",
    "    def my_get_predictions(query):\n",
    "        '''\n",
    "        Функция для применения my_get_similar к тестовой выборке\n",
    "        '''\n",
    "        return my_get_similar(query, top_k=1)[['name', 'region', 'country']]\n",
    "    \n",
    "    # Объединение результатов в единый DataFrame\n",
    "    predictions_dataframe = pd.concat(\n",
    "        queries.apply(my_get_predictions).tolist(),\n",
    "        ignore_index=True\n",
    "    )\n",
    "    return predictions_dataframe"
   ]
  },
  {
   "cell_type": "markdown",
   "id": "90157744",
   "metadata": {},
   "source": [
    "## Загрузка данных."
   ]
  },
  {
   "cell_type": "markdown",
   "id": "ec02a256",
   "metadata": {},
   "source": [
    "Географическая база данных GeoNames предоставляет подробное описание хранимых данных. На основе этой информации произведён отбор необходимых файлов и загрузка необходимой для решения задачи информации.\n",
    "\n",
    "Описание данных позволило сразу сформировать датафреймы с предварительной обработкой, включающей удаление строк с пропусками и дубликатов.\n",
    "\n",
    "Для дальнейшей работы использованы данные, хранящиеся в файлах countryInfo.txt, cities15000.txt и admin1CodesASCII.txt. Файл countryInfo.txt необходим для сопоставления кода страны с её названием, cities15000.txt предоставляет названия городов в соответствии с Техническим Заданием, а admin1CodesASCII.txt содержит информацию для получения названия административной единицы города."
   ]
  },
  {
   "cell_type": "markdown",
   "id": "7d02c663",
   "metadata": {},
   "source": [
    "### Файл `countryInfo.txt`."
   ]
  },
  {
   "cell_type": "code",
   "execution_count": 8,
   "id": "0132806e",
   "metadata": {},
   "outputs": [],
   "source": [
    "countries = pd.read_csv(\n",
    "    # Путь к файлу с информацией о странах\n",
    "    DATA + 'countryInfo.txt', \n",
    "    # Разделитель в файле - табуляция\n",
    "    delimiter='\\t', \n",
    "    # Отсутствие заголовка в файле\n",
    "    header=None, \n",
    "    # Комментарии начинаются с символа #\n",
    "    comment='#', \n",
    "     # Задание типа данных для столбца geonameid\n",
    "    dtype={'geonameid': 'Int64'},\n",
    "    # Задание имен столбцов\n",
    "    names=[\n",
    "        'country_code',\n",
    "        'iso3',\n",
    "        'iso-numeric',\n",
    "        'fips',\n",
    "        'country',\n",
    "        'capital',\n",
    "        'area(in_sq_km)',\n",
    "        'population',\n",
    "        'continent',\n",
    "        'tld',\n",
    "        'currency_code',\n",
    "        'currency_name',\n",
    "        'phone',\n",
    "        'postal_code_format',\n",
    "        'postal_code_regex',\n",
    "        'languages',\n",
    "        'geonameid',\n",
    "        'neighbours',\n",
    "        'equivalent_fips_code'\n",
    "    ], \n",
    "    # Выбор только необходимых столбцов\n",
    "    usecols=[\n",
    "        'country_code',\n",
    "        'country'\n",
    "    ] \n",
    "# Удаление строк с пропущенными значениями и дубликатов\n",
    ").dropna().drop_duplicates() \n"
   ]
  },
  {
   "cell_type": "code",
   "execution_count": 9,
   "id": "dbfe40ba",
   "metadata": {},
   "outputs": [],
   "source": [
    "# Сброс индекса в DataFrame countries\n",
    "countries.reset_index(drop=True, inplace=True) "
   ]
  },
  {
   "cell_type": "markdown",
   "id": "b6b04859",
   "metadata": {},
   "source": [
    "### Файл `cities15000.txt`."
   ]
  },
  {
   "cell_type": "code",
   "execution_count": 10,
   "id": "09043ee9",
   "metadata": {},
   "outputs": [],
   "source": [
    "cities15000 = pd.read_csv(\n",
    "    # Путь к файлу с информацией о городах\n",
    "    DATA + 'cities15000.txt', \n",
    "    # Разделитель в файле - табуляция\n",
    "    delimiter='\\t', \n",
    "    # Отсутствие заголовка в файле\n",
    "    header=None,\n",
    "    # Не создавать столбец индекса из первого столбца в файле данных\n",
    "    index_col=None, \n",
    "    # Задание имен столбцов\n",
    "    names=[\n",
    "        'geonameid',\n",
    "        'name',\n",
    "        'asciiname',\n",
    "        'alternate_names',\n",
    "        'latitude',\n",
    "        'longitude',\n",
    "        'feature_class',\n",
    "        'feature_code',\n",
    "        'country_code',\n",
    "        'cc2',\n",
    "        'admin1_code',\n",
    "        'admin2_code',\n",
    "        'admin3_code',\n",
    "        'admin4_code',\n",
    "        'population',\n",
    "        'elevation',\n",
    "        'dem',\n",
    "        'timezone',\n",
    "        'modification_date'\n",
    "    ],\n",
    "    # Выбор только необходимых столбцов\n",
    "    usecols=[\n",
    "        'geonameid',\n",
    "        'country_code',\n",
    "        'name',\n",
    "        'admin1_code',\n",
    "        'population'\n",
    "    ]\n",
    "# Удаление строк с пропущенными значениями и дубликатов\n",
    ").dropna().drop_duplicates() \n"
   ]
  },
  {
   "cell_type": "code",
   "execution_count": 11,
   "id": "b200dde7",
   "metadata": {},
   "outputs": [],
   "source": [
    "# Сброс индекса в DataFrame cities15000\n",
    "cities15000.reset_index(drop=True, inplace=True)"
   ]
  },
  {
   "cell_type": "markdown",
   "id": "00e8415f",
   "metadata": {},
   "source": [
    "### Файл `admin1CodesASCII.txt`."
   ]
  },
  {
   "cell_type": "code",
   "execution_count": 12,
   "id": "2ed134b8",
   "metadata": {},
   "outputs": [],
   "source": [
    "admin_codes = pd.read_csv(\n",
    "    # Путь к файлу с информацией об административных кодах\n",
    "    DATA + 'admin1CodesASCII.txt', \n",
    "    # Разделитель в файле - табуляция\n",
    "    delimiter='\\t', \n",
    "    # Отсутствие заголовка в файле\n",
    "    header=None, \n",
    "    # Не создавать столбец индекса из первого столбца в файле данных\n",
    "    index_col=None, \n",
    "    # Задание имен столбцов\n",
    "    names=[\n",
    "        'concatenated_codes',\n",
    "        'name',\n",
    "        'ascii_name',\n",
    "        'geonameid'\n",
    "    ], \n",
    "    # Выбор только необходимых столбцов\n",
    "    usecols=[\n",
    "        'concatenated_codes',\n",
    "        'name',\n",
    "        # 'ascii_name'\n",
    "    ] \n",
    "# Удаление строк с пропущенными значениями и дубликатов\n",
    ").dropna().drop_duplicates() "
   ]
  },
  {
   "cell_type": "code",
   "execution_count": 13,
   "id": "090b110b",
   "metadata": {},
   "outputs": [],
   "source": [
    "# Сброс индекса в DataFrame admin_codes\n",
    "admin_codes.reset_index(drop=True, inplace=True) "
   ]
  },
  {
   "cell_type": "markdown",
   "id": "e3abe389",
   "metadata": {},
   "source": [
    "## Исследовательский анализ данных."
   ]
  },
  {
   "cell_type": "markdown",
   "id": "73161e0d",
   "metadata": {},
   "source": [
    "Ниже представлен предварительный исследовательский анализ данных, полученных из базы данных GeoNames.\n",
    "\n",
    "В начале анализа осуществляется ознакомление с общей структурой данных. Это включает в себя изучение основных полей и их типов, а также общее представление о данных, предоставляемых базой GeoNames.\n",
    "\n",
    "После проведения предварительного анализа данные готовы к дальнейшей обработке и использованию в поставленной задаче."
   ]
  },
  {
   "cell_type": "markdown",
   "id": "aa03a696",
   "metadata": {},
   "source": [
    "### `countries` DataFrame."
   ]
  },
  {
   "cell_type": "code",
   "execution_count": 14,
   "id": "9f09c1cc",
   "metadata": {},
   "outputs": [
    {
     "data": {
      "text/markdown": [
       "**<br>Данные метода info():**"
      ],
      "text/plain": [
       "<IPython.core.display.Markdown object>"
      ]
     },
     "metadata": {},
     "output_type": "display_data"
    },
    {
     "name": "stdout",
     "output_type": "stream",
     "text": [
      "<class 'pandas.core.frame.DataFrame'>\n",
      "RangeIndex: 251 entries, 0 to 250\n",
      "Data columns (total 2 columns):\n",
      " #   Column        Non-Null Count  Dtype \n",
      "---  ------        --------------  ----- \n",
      " 0   country_code  251 non-null    object\n",
      " 1   country       251 non-null    object\n",
      "dtypes: object(2)\n",
      "memory usage: 4.0+ KB\n"
     ]
    },
    {
     "data": {
      "text/markdown": [
       "**<br>Данные метода describe(include='all'):**"
      ],
      "text/plain": [
       "<IPython.core.display.Markdown object>"
      ]
     },
     "metadata": {},
     "output_type": "display_data"
    },
    {
     "data": {
      "text/html": [
       "<div>\n",
       "<style scoped>\n",
       "    .dataframe tbody tr th:only-of-type {\n",
       "        vertical-align: middle;\n",
       "    }\n",
       "\n",
       "    .dataframe tbody tr th {\n",
       "        vertical-align: top;\n",
       "    }\n",
       "\n",
       "    .dataframe thead th {\n",
       "        text-align: right;\n",
       "    }\n",
       "</style>\n",
       "<table border=\"1\" class=\"dataframe\">\n",
       "  <thead>\n",
       "    <tr style=\"text-align: right;\">\n",
       "      <th></th>\n",
       "      <th>country_code</th>\n",
       "      <th>country</th>\n",
       "    </tr>\n",
       "  </thead>\n",
       "  <tbody>\n",
       "    <tr>\n",
       "      <th>count</th>\n",
       "      <td>251</td>\n",
       "      <td>251</td>\n",
       "    </tr>\n",
       "    <tr>\n",
       "      <th>unique</th>\n",
       "      <td>251</td>\n",
       "      <td>251</td>\n",
       "    </tr>\n",
       "    <tr>\n",
       "      <th>top</th>\n",
       "      <td>AD</td>\n",
       "      <td>Andorra</td>\n",
       "    </tr>\n",
       "    <tr>\n",
       "      <th>freq</th>\n",
       "      <td>1</td>\n",
       "      <td>1</td>\n",
       "    </tr>\n",
       "  </tbody>\n",
       "</table>\n",
       "</div>"
      ],
      "text/plain": [
       "       country_code  country\n",
       "count           251      251\n",
       "unique          251      251\n",
       "top              AD  Andorra\n",
       "freq              1        1"
      ]
     },
     "metadata": {},
     "output_type": "display_data"
    },
    {
     "data": {
      "text/markdown": [
       "**<br>Данные метода sample(10, random_state=RANDOM_STATE):**"
      ],
      "text/plain": [
       "<IPython.core.display.Markdown object>"
      ]
     },
     "metadata": {},
     "output_type": "display_data"
    },
    {
     "data": {
      "text/html": [
       "<div>\n",
       "<style scoped>\n",
       "    .dataframe tbody tr th:only-of-type {\n",
       "        vertical-align: middle;\n",
       "    }\n",
       "\n",
       "    .dataframe tbody tr th {\n",
       "        vertical-align: top;\n",
       "    }\n",
       "\n",
       "    .dataframe thead th {\n",
       "        text-align: right;\n",
       "    }\n",
       "</style>\n",
       "<table border=\"1\" class=\"dataframe\">\n",
       "  <thead>\n",
       "    <tr style=\"text-align: right;\">\n",
       "      <th></th>\n",
       "      <th>country_code</th>\n",
       "      <th>country</th>\n",
       "    </tr>\n",
       "  </thead>\n",
       "  <tbody>\n",
       "    <tr>\n",
       "      <th>155</th>\n",
       "      <td>MV</td>\n",
       "      <td>Maldives</td>\n",
       "    </tr>\n",
       "    <tr>\n",
       "      <th>6</th>\n",
       "      <td>AM</td>\n",
       "      <td>Armenia</td>\n",
       "    </tr>\n",
       "    <tr>\n",
       "      <th>164</th>\n",
       "      <td>NI</td>\n",
       "      <td>Nicaragua</td>\n",
       "    </tr>\n",
       "    <tr>\n",
       "      <th>60</th>\n",
       "      <td>DO</td>\n",
       "      <td>Dominican Republic</td>\n",
       "    </tr>\n",
       "    <tr>\n",
       "      <th>113</th>\n",
       "      <td>JP</td>\n",
       "      <td>Japan</td>\n",
       "    </tr>\n",
       "    <tr>\n",
       "      <th>182</th>\n",
       "      <td>PS</td>\n",
       "      <td>Palestinian Territory</td>\n",
       "    </tr>\n",
       "    <tr>\n",
       "      <th>198</th>\n",
       "      <td>SG</td>\n",
       "      <td>Singapore</td>\n",
       "    </tr>\n",
       "    <tr>\n",
       "      <th>248</th>\n",
       "      <td>ZW</td>\n",
       "      <td>Zimbabwe</td>\n",
       "    </tr>\n",
       "    <tr>\n",
       "      <th>9</th>\n",
       "      <td>AR</td>\n",
       "      <td>Argentina</td>\n",
       "    </tr>\n",
       "    <tr>\n",
       "      <th>118</th>\n",
       "      <td>KM</td>\n",
       "      <td>Comoros</td>\n",
       "    </tr>\n",
       "  </tbody>\n",
       "</table>\n",
       "</div>"
      ],
      "text/plain": [
       "    country_code                country\n",
       "155           MV               Maldives\n",
       "6             AM                Armenia\n",
       "164           NI              Nicaragua\n",
       "60            DO     Dominican Republic\n",
       "113           JP                  Japan\n",
       "182           PS  Palestinian Territory\n",
       "198           SG              Singapore\n",
       "248           ZW               Zimbabwe\n",
       "9             AR              Argentina\n",
       "118           KM                Comoros"
      ]
     },
     "metadata": {},
     "output_type": "display_data"
    }
   ],
   "source": [
    "my_datafame_info(countries)"
   ]
  },
  {
   "cell_type": "markdown",
   "id": "14cba4d3",
   "metadata": {},
   "source": [
    "Анализ данных в датафрейме countries, который содержит информацию о 251 уникальной стране, включая их коды.\n",
    "- Количество уникальных названий стран совпадает с общим числом строк в датафрейме.\n",
    "- Данные представлены в хорошо структурированном формате и разделены на пары: country_code - country. Это упорядочение обеспечивает однозначное сопоставление каждому коду страны соответствующего названия."
   ]
  },
  {
   "cell_type": "markdown",
   "id": "21fc299f",
   "metadata": {},
   "source": [
    "### `cities15000` DataFrame."
   ]
  },
  {
   "cell_type": "code",
   "execution_count": 15,
   "id": "71e39793",
   "metadata": {},
   "outputs": [
    {
     "data": {
      "text/markdown": [
       "**<br>Данные метода info():**"
      ],
      "text/plain": [
       "<IPython.core.display.Markdown object>"
      ]
     },
     "metadata": {},
     "output_type": "display_data"
    },
    {
     "name": "stdout",
     "output_type": "stream",
     "text": [
      "<class 'pandas.core.frame.DataFrame'>\n",
      "RangeIndex: 26664 entries, 0 to 26663\n",
      "Data columns (total 5 columns):\n",
      " #   Column        Non-Null Count  Dtype \n",
      "---  ------        --------------  ----- \n",
      " 0   geonameid     26664 non-null  int64 \n",
      " 1   name          26664 non-null  object\n",
      " 2   country_code  26664 non-null  object\n",
      " 3   admin1_code   26664 non-null  object\n",
      " 4   population    26664 non-null  int64 \n",
      "dtypes: int64(2), object(3)\n",
      "memory usage: 1.0+ MB\n"
     ]
    },
    {
     "data": {
      "text/markdown": [
       "**<br>Данные метода describe(include='all'):**"
      ],
      "text/plain": [
       "<IPython.core.display.Markdown object>"
      ]
     },
     "metadata": {},
     "output_type": "display_data"
    },
    {
     "data": {
      "text/html": [
       "<div>\n",
       "<style scoped>\n",
       "    .dataframe tbody tr th:only-of-type {\n",
       "        vertical-align: middle;\n",
       "    }\n",
       "\n",
       "    .dataframe tbody tr th {\n",
       "        vertical-align: top;\n",
       "    }\n",
       "\n",
       "    .dataframe thead th {\n",
       "        text-align: right;\n",
       "    }\n",
       "</style>\n",
       "<table border=\"1\" class=\"dataframe\">\n",
       "  <thead>\n",
       "    <tr style=\"text-align: right;\">\n",
       "      <th></th>\n",
       "      <th>geonameid</th>\n",
       "      <th>name</th>\n",
       "      <th>country_code</th>\n",
       "      <th>admin1_code</th>\n",
       "      <th>population</th>\n",
       "    </tr>\n",
       "  </thead>\n",
       "  <tbody>\n",
       "    <tr>\n",
       "      <th>count</th>\n",
       "      <td>26,664.0000000</td>\n",
       "      <td>26664</td>\n",
       "      <td>26664</td>\n",
       "      <td>26664</td>\n",
       "      <td>26,664.0000000</td>\n",
       "    </tr>\n",
       "    <tr>\n",
       "      <th>unique</th>\n",
       "      <td>NaN</td>\n",
       "      <td>25184</td>\n",
       "      <td>238</td>\n",
       "      <td>336</td>\n",
       "      <td>NaN</td>\n",
       "    </tr>\n",
       "    <tr>\n",
       "      <th>top</th>\n",
       "      <td>NaN</td>\n",
       "      <td>Richmond</td>\n",
       "      <td>US</td>\n",
       "      <td>07</td>\n",
       "      <td>NaN</td>\n",
       "    </tr>\n",
       "    <tr>\n",
       "      <th>freq</th>\n",
       "      <td>NaN</td>\n",
       "      <td>9</td>\n",
       "      <td>3273</td>\n",
       "      <td>1004</td>\n",
       "      <td>NaN</td>\n",
       "    </tr>\n",
       "    <tr>\n",
       "      <th>mean</th>\n",
       "      <td>2,859,051.8043429</td>\n",
       "      <td>NaN</td>\n",
       "      <td>NaN</td>\n",
       "      <td>NaN</td>\n",
       "      <td>122,761.9194044</td>\n",
       "    </tr>\n",
       "    <tr>\n",
       "      <th>std</th>\n",
       "      <td>2,170,622.3245399</td>\n",
       "      <td>NaN</td>\n",
       "      <td>NaN</td>\n",
       "      <td>NaN</td>\n",
       "      <td>526,148.5070955</td>\n",
       "    </tr>\n",
       "    <tr>\n",
       "      <th>min</th>\n",
       "      <td>10,570.0000000</td>\n",
       "      <td>NaN</td>\n",
       "      <td>NaN</td>\n",
       "      <td>NaN</td>\n",
       "      <td>0.0000000</td>\n",
       "    </tr>\n",
       "    <tr>\n",
       "      <th>25%</th>\n",
       "      <td>1,274,426.5000000</td>\n",
       "      <td>NaN</td>\n",
       "      <td>NaN</td>\n",
       "      <td>NaN</td>\n",
       "      <td>22,000.0000000</td>\n",
       "    </tr>\n",
       "    <tr>\n",
       "      <th>50%</th>\n",
       "      <td>2,523,100.0000000</td>\n",
       "      <td>NaN</td>\n",
       "      <td>NaN</td>\n",
       "      <td>NaN</td>\n",
       "      <td>35,582.5000000</td>\n",
       "    </tr>\n",
       "    <tr>\n",
       "      <th>75%</th>\n",
       "      <td>3,585,816.5000000</td>\n",
       "      <td>NaN</td>\n",
       "      <td>NaN</td>\n",
       "      <td>NaN</td>\n",
       "      <td>74,457.5000000</td>\n",
       "    </tr>\n",
       "    <tr>\n",
       "      <th>max</th>\n",
       "      <td>12,640,239.0000000</td>\n",
       "      <td>NaN</td>\n",
       "      <td>NaN</td>\n",
       "      <td>NaN</td>\n",
       "      <td>22,315,474.0000000</td>\n",
       "    </tr>\n",
       "  </tbody>\n",
       "</table>\n",
       "</div>"
      ],
      "text/plain": [
       "                geonameid      name country_code admin1_code  \\\n",
       "count      26,664.0000000     26664        26664       26664   \n",
       "unique                NaN     25184          238         336   \n",
       "top                   NaN  Richmond           US          07   \n",
       "freq                  NaN         9         3273        1004   \n",
       "mean    2,859,051.8043429       NaN          NaN         NaN   \n",
       "std     2,170,622.3245399       NaN          NaN         NaN   \n",
       "min        10,570.0000000       NaN          NaN         NaN   \n",
       "25%     1,274,426.5000000       NaN          NaN         NaN   \n",
       "50%     2,523,100.0000000       NaN          NaN         NaN   \n",
       "75%     3,585,816.5000000       NaN          NaN         NaN   \n",
       "max    12,640,239.0000000       NaN          NaN         NaN   \n",
       "\n",
       "               population  \n",
       "count      26,664.0000000  \n",
       "unique                NaN  \n",
       "top                   NaN  \n",
       "freq                  NaN  \n",
       "mean      122,761.9194044  \n",
       "std       526,148.5070955  \n",
       "min             0.0000000  \n",
       "25%        22,000.0000000  \n",
       "50%        35,582.5000000  \n",
       "75%        74,457.5000000  \n",
       "max    22,315,474.0000000  "
      ]
     },
     "metadata": {},
     "output_type": "display_data"
    },
    {
     "data": {
      "text/markdown": [
       "**<br>Данные метода sample(10, random_state=RANDOM_STATE):**"
      ],
      "text/plain": [
       "<IPython.core.display.Markdown object>"
      ]
     },
     "metadata": {},
     "output_type": "display_data"
    },
    {
     "data": {
      "text/html": [
       "<div>\n",
       "<style scoped>\n",
       "    .dataframe tbody tr th:only-of-type {\n",
       "        vertical-align: middle;\n",
       "    }\n",
       "\n",
       "    .dataframe tbody tr th {\n",
       "        vertical-align: top;\n",
       "    }\n",
       "\n",
       "    .dataframe thead th {\n",
       "        text-align: right;\n",
       "    }\n",
       "</style>\n",
       "<table border=\"1\" class=\"dataframe\">\n",
       "  <thead>\n",
       "    <tr style=\"text-align: right;\">\n",
       "      <th></th>\n",
       "      <th>geonameid</th>\n",
       "      <th>name</th>\n",
       "      <th>country_code</th>\n",
       "      <th>admin1_code</th>\n",
       "      <th>population</th>\n",
       "    </tr>\n",
       "  </thead>\n",
       "  <tbody>\n",
       "    <tr>\n",
       "      <th>20966</th>\n",
       "      <td>2698691</td>\n",
       "      <td>Kungsholmen</td>\n",
       "      <td>SE</td>\n",
       "      <td>26</td>\n",
       "      <td>69363</td>\n",
       "    </tr>\n",
       "    <tr>\n",
       "      <th>26365</th>\n",
       "      <td>1587919</td>\n",
       "      <td>Bỉm Sơn</td>\n",
       "      <td>VN</td>\n",
       "      <td>34</td>\n",
       "      <td>53754</td>\n",
       "    </tr>\n",
       "    <tr>\n",
       "      <th>20166</th>\n",
       "      <td>538836</td>\n",
       "      <td>Kurganinsk</td>\n",
       "      <td>RU</td>\n",
       "      <td>38</td>\n",
       "      <td>47681</td>\n",
       "    </tr>\n",
       "    <tr>\n",
       "      <th>8763</th>\n",
       "      <td>2991214</td>\n",
       "      <td>Mulhouse</td>\n",
       "      <td>FR</td>\n",
       "      <td>44</td>\n",
       "      <td>111430</td>\n",
       "    </tr>\n",
       "    <tr>\n",
       "      <th>7335</th>\n",
       "      <td>2488716</td>\n",
       "      <td>Megarine</td>\n",
       "      <td>DZ</td>\n",
       "      <td>TG</td>\n",
       "      <td>31711</td>\n",
       "    </tr>\n",
       "    <tr>\n",
       "      <th>25135</th>\n",
       "      <td>5337696</td>\n",
       "      <td>Claremont</td>\n",
       "      <td>US</td>\n",
       "      <td>CA</td>\n",
       "      <td>36283</td>\n",
       "    </tr>\n",
       "    <tr>\n",
       "      <th>18791</th>\n",
       "      <td>1175088</td>\n",
       "      <td>Kamoke</td>\n",
       "      <td>PK</td>\n",
       "      <td>04</td>\n",
       "      <td>199531</td>\n",
       "    </tr>\n",
       "    <tr>\n",
       "      <th>12228</th>\n",
       "      <td>1264489</td>\n",
       "      <td>Mahād</td>\n",
       "      <td>IN</td>\n",
       "      <td>16</td>\n",
       "      <td>26665</td>\n",
       "    </tr>\n",
       "    <tr>\n",
       "      <th>11812</th>\n",
       "      <td>1259841</td>\n",
       "      <td>Petlād</td>\n",
       "      <td>IN</td>\n",
       "      <td>09</td>\n",
       "      <td>51819</td>\n",
       "    </tr>\n",
       "    <tr>\n",
       "      <th>19142</th>\n",
       "      <td>3091141</td>\n",
       "      <td>Namysłów</td>\n",
       "      <td>PL</td>\n",
       "      <td>79</td>\n",
       "      <td>16376</td>\n",
       "    </tr>\n",
       "  </tbody>\n",
       "</table>\n",
       "</div>"
      ],
      "text/plain": [
       "       geonameid         name country_code admin1_code  population\n",
       "20966    2698691  Kungsholmen           SE          26       69363\n",
       "26365    1587919      Bỉm Sơn           VN          34       53754\n",
       "20166     538836   Kurganinsk           RU          38       47681\n",
       "8763     2991214     Mulhouse           FR          44      111430\n",
       "7335     2488716     Megarine           DZ          TG       31711\n",
       "25135    5337696    Claremont           US          CA       36283\n",
       "18791    1175088       Kamoke           PK          04      199531\n",
       "12228    1264489        Mahād           IN          16       26665\n",
       "11812    1259841       Petlād           IN          09       51819\n",
       "19142    3091141     Namysłów           PL          79       16376"
      ]
     },
     "metadata": {},
     "output_type": "display_data"
    }
   ],
   "source": [
    "my_datafame_info(cities15000)"
   ]
  },
  {
   "cell_type": "code",
   "execution_count": 16,
   "id": "d1791617",
   "metadata": {},
   "outputs": [
    {
     "data": {
      "image/png": "[encoded data removed]",
      "text/plain": [
       "<Figure size 800x500 with 1 Axes>"
      ]
     },
     "metadata": {},
     "output_type": "display_data"
    }
   ],
   "source": [
    "# Установка стиля seaborn\n",
    "sns.set(style=\"whitegrid\", palette='viridis')\n",
    "\n",
    "selected_data = cities15000[\n",
    "    cities15000['country_code'].isin(SELECTED_COUNTRY_CODES)\n",
    "]\n",
    "\n",
    "# Создание графика с несколькими гистограммами с использованием hue\n",
    "plt.figure(figsize=(8, 5))\n",
    "hist = sns.histplot(\n",
    "    data=selected_data,\n",
    "    x='population',\n",
    "    log_scale=(True, True),\n",
    "    bins=50,\n",
    "    hue='country_code',\n",
    "    #hue_order=SELECTED_COUNTRY_CODES,\n",
    "    common_norm=False,\n",
    ")\n",
    "\n",
    "# Настройка осей и заголовка\n",
    "plt.ylabel('Количество городов')\n",
    "plt.xlabel('Численность населения')\n",
    "plt.title('Распределение городов по численности населения')\n",
    "\n",
    "# Получение объекта легенды\n",
    "legend = hist.get_legend()\n",
    "\n",
    "# Изменение названия легенды\n",
    "legend.set_title('Код страны')\n",
    "\n",
    "# Улучшение компактности отображения\n",
    "plt.tight_layout()\n",
    "\n",
    "# Отображение гистограммы\n",
    "plt.show()"
   ]
  },
  {
   "cell_type": "markdown",
   "id": "541ba064",
   "metadata": {},
   "source": [
    "Анализ данных в датафрейме cities15000, содержащем информацию о городах:\n",
    "- Датафрейм включает в себя 26,664 строк данных о названиях городов, их кодах страны, административных единицах, численности населения и унифицированных кодах geonameid.\n",
    "- Отмечено, что количество уникальных названий городов меньше общего количества строк. Это свидетельствует о дублировании городов с одинаковыми названиями в разных странах.\n",
    "- Также отмечено, что количество уникальных стран в датафрейме меньше общего числа стран. Это объясняется тем, что рассматривается выборка городов с населением более 15 тысяч человек.\n",
    "- В данных представлены названия городов, коды страны и административных единиц.\n",
    "- Распределение городов по численности населения демонстрирует естественный характер с постепенным снижением количества городов по мере роста популяции и преобладанием городов с более низкой численностью."
   ]
  },
  {
   "cell_type": "markdown",
   "id": "8b32c45c",
   "metadata": {},
   "source": [
    "### `admin_codes` DataFrame."
   ]
  },
  {
   "cell_type": "code",
   "execution_count": 17,
   "id": "0e9179f0",
   "metadata": {},
   "outputs": [
    {
     "data": {
      "text/markdown": [
       "**<br>Данные метода info():**"
      ],
      "text/plain": [
       "<IPython.core.display.Markdown object>"
      ]
     },
     "metadata": {},
     "output_type": "display_data"
    },
    {
     "name": "stdout",
     "output_type": "stream",
     "text": [
      "<class 'pandas.core.frame.DataFrame'>\n",
      "RangeIndex: 3881 entries, 0 to 3880\n",
      "Data columns (total 2 columns):\n",
      " #   Column              Non-Null Count  Dtype \n",
      "---  ------              --------------  ----- \n",
      " 0   concatenated_codes  3881 non-null   object\n",
      " 1   name                3881 non-null   object\n",
      "dtypes: object(2)\n",
      "memory usage: 60.8+ KB\n"
     ]
    },
    {
     "data": {
      "text/markdown": [
       "**<br>Данные метода describe(include='all'):**"
      ],
      "text/plain": [
       "<IPython.core.display.Markdown object>"
      ]
     },
     "metadata": {},
     "output_type": "display_data"
    },
    {
     "data": {
      "text/html": [
       "<div>\n",
       "<style scoped>\n",
       "    .dataframe tbody tr th:only-of-type {\n",
       "        vertical-align: middle;\n",
       "    }\n",
       "\n",
       "    .dataframe tbody tr th {\n",
       "        vertical-align: top;\n",
       "    }\n",
       "\n",
       "    .dataframe thead th {\n",
       "        text-align: right;\n",
       "    }\n",
       "</style>\n",
       "<table border=\"1\" class=\"dataframe\">\n",
       "  <thead>\n",
       "    <tr style=\"text-align: right;\">\n",
       "      <th></th>\n",
       "      <th>concatenated_codes</th>\n",
       "      <th>name</th>\n",
       "    </tr>\n",
       "  </thead>\n",
       "  <tbody>\n",
       "    <tr>\n",
       "      <th>count</th>\n",
       "      <td>3881</td>\n",
       "      <td>3881</td>\n",
       "    </tr>\n",
       "    <tr>\n",
       "      <th>unique</th>\n",
       "      <td>3881</td>\n",
       "      <td>3782</td>\n",
       "    </tr>\n",
       "    <tr>\n",
       "      <th>top</th>\n",
       "      <td>AD.06</td>\n",
       "      <td>Saint George</td>\n",
       "    </tr>\n",
       "    <tr>\n",
       "      <th>freq</th>\n",
       "      <td>1</td>\n",
       "      <td>6</td>\n",
       "    </tr>\n",
       "  </tbody>\n",
       "</table>\n",
       "</div>"
      ],
      "text/plain": [
       "       concatenated_codes          name\n",
       "count                3881          3881\n",
       "unique               3881          3782\n",
       "top                 AD.06  Saint George\n",
       "freq                    1             6"
      ]
     },
     "metadata": {},
     "output_type": "display_data"
    },
    {
     "data": {
      "text/markdown": [
       "**<br>Данные метода sample(10, random_state=RANDOM_STATE):**"
      ],
      "text/plain": [
       "<IPython.core.display.Markdown object>"
      ]
     },
     "metadata": {},
     "output_type": "display_data"
    },
    {
     "data": {
      "text/html": [
       "<div>\n",
       "<style scoped>\n",
       "    .dataframe tbody tr th:only-of-type {\n",
       "        vertical-align: middle;\n",
       "    }\n",
       "\n",
       "    .dataframe tbody tr th {\n",
       "        vertical-align: top;\n",
       "    }\n",
       "\n",
       "    .dataframe thead th {\n",
       "        text-align: right;\n",
       "    }\n",
       "</style>\n",
       "<table border=\"1\" class=\"dataframe\">\n",
       "  <thead>\n",
       "    <tr style=\"text-align: right;\">\n",
       "      <th></th>\n",
       "      <th>concatenated_codes</th>\n",
       "      <th>name</th>\n",
       "    </tr>\n",
       "  </thead>\n",
       "  <tbody>\n",
       "    <tr>\n",
       "      <th>3431</th>\n",
       "      <td>TR.58</td>\n",
       "      <td>Sivas</td>\n",
       "    </tr>\n",
       "    <tr>\n",
       "      <th>1018</th>\n",
       "      <td>GA.06</td>\n",
       "      <td>Ogooué-Ivindo</td>\n",
       "    </tr>\n",
       "    <tr>\n",
       "      <th>3270</th>\n",
       "      <td>TD.05</td>\n",
       "      <td>Guéra</td>\n",
       "    </tr>\n",
       "    <tr>\n",
       "      <th>3613</th>\n",
       "      <td>US.MO</td>\n",
       "      <td>Missouri</td>\n",
       "    </tr>\n",
       "    <tr>\n",
       "      <th>1200</th>\n",
       "      <td>HN.13</td>\n",
       "      <td>Lempira Department</td>\n",
       "    </tr>\n",
       "    <tr>\n",
       "      <th>1268</th>\n",
       "      <td>ID.24</td>\n",
       "      <td>West Sumatra</td>\n",
       "    </tr>\n",
       "    <tr>\n",
       "      <th>721</th>\n",
       "      <td>CY.04</td>\n",
       "      <td>Nicosia</td>\n",
       "    </tr>\n",
       "    <tr>\n",
       "      <th>351</th>\n",
       "      <td>BO.04</td>\n",
       "      <td>La Paz Department</td>\n",
       "    </tr>\n",
       "    <tr>\n",
       "      <th>1220</th>\n",
       "      <td>HR.08</td>\n",
       "      <td>Lika-Senj</td>\n",
       "    </tr>\n",
       "    <tr>\n",
       "      <th>322</th>\n",
       "      <td>BJ.10</td>\n",
       "      <td>Borgou</td>\n",
       "    </tr>\n",
       "  </tbody>\n",
       "</table>\n",
       "</div>"
      ],
      "text/plain": [
       "     concatenated_codes                name\n",
       "3431              TR.58               Sivas\n",
       "1018              GA.06       Ogooué-Ivindo\n",
       "3270              TD.05               Guéra\n",
       "3613              US.MO            Missouri\n",
       "1200              HN.13  Lempira Department\n",
       "1268              ID.24        West Sumatra\n",
       "721               CY.04             Nicosia\n",
       "351               BO.04   La Paz Department\n",
       "1220              HR.08           Lika-Senj\n",
       "322               BJ.10              Borgou"
      ]
     },
     "metadata": {},
     "output_type": "display_data"
    }
   ],
   "source": [
    "my_datafame_info(admin_codes)"
   ]
  },
  {
   "cell_type": "markdown",
   "id": "7368984e",
   "metadata": {},
   "source": [
    "Анализ данных в датафрейме admin_codes, содержащем информацию об административных единицах и их объединённых кодах:\n",
    "- Датафрейм включает в себя 3,881 запись данных типа object.\n",
    "- Каждой строке данных соответствует уникальный объединенный код административной единицы. Однако названия единиц могут повторяться, что объясняется дублированием названий регионов в разных странах.\n",
    "- Структура объединенного кода (concatenated_codes) позволяет получить данные как по стране, так и по административной единице, сопоставив ее названию."
   ]
  },
  {
   "cell_type": "markdown",
   "id": "21a7221b",
   "metadata": {},
   "source": [
    "## Объединение таблиц."
   ]
  },
  {
   "cell_type": "markdown",
   "id": "c3663117",
   "metadata": {},
   "source": [
    "Для объединения данных, ранее загруженных в датафреймы, используется общий, объединенный код административных единиц.\n",
    "\n",
    "Этот подход позволяет создать общий датафрейм, включающий в себя информацию о городах, странах и административных единицах. Объединение проводится с учетом совпадения объединенных кодов и включает в себя данные о городах, их странах и соответствующих административных единицах."
   ]
  },
  {
   "cell_type": "code",
   "execution_count": 18,
   "id": "7217a039",
   "metadata": {},
   "outputs": [],
   "source": [
    "# Разделение столбца 'concatenated_codes' на два столбца 'country_code' и 'admin1_code'\n",
    "admin_codes[['country_code', 'admin1_code']] = admin_codes['concatenated_codes'].str.split('.', expand=True)"
   ]
  },
  {
   "cell_type": "code",
   "execution_count": 19,
   "id": "57d9c504",
   "metadata": {},
   "outputs": [],
   "source": [
    "joined_df = pd.merge(\n",
    "    pd.merge(\n",
    "        admin_codes,\n",
    "        countries, \n",
    "        # admin_codes и countries объединяются по столбцу 'country_code'\n",
    "        on='country_code', \n",
    "        how='left'\n",
    "    ),\n",
    "    cities15000, \n",
    "    # Объединение с результатом предыдущего объединения\n",
    "    on=['country_code', 'admin1_code'], \n",
    "    how='left',\n",
    "    # Добавляем суффиксы к названиям столбцов для уникальности после объединения\n",
    "    suffixes=('_admin', '_city') \n",
    "# Удаляем строки с пропущенными значениями после объединения\n",
    ").dropna() "
   ]
  },
  {
   "cell_type": "markdown",
   "id": "e9d8b328",
   "metadata": {},
   "source": [
    "Пример случайной выборки данных из общей таблицы."
   ]
  },
  {
   "cell_type": "code",
   "execution_count": 20,
   "id": "a4202779",
   "metadata": {},
   "outputs": [
    {
     "data": {
      "text/html": [
       "<div>\n",
       "<style scoped>\n",
       "    .dataframe tbody tr th:only-of-type {\n",
       "        vertical-align: middle;\n",
       "    }\n",
       "\n",
       "    .dataframe tbody tr th {\n",
       "        vertical-align: top;\n",
       "    }\n",
       "\n",
       "    .dataframe thead th {\n",
       "        text-align: right;\n",
       "    }\n",
       "</style>\n",
       "<table border=\"1\" class=\"dataframe\">\n",
       "  <thead>\n",
       "    <tr style=\"text-align: right;\">\n",
       "      <th></th>\n",
       "      <th>concatenated_codes</th>\n",
       "      <th>name_admin</th>\n",
       "      <th>country_code</th>\n",
       "      <th>admin1_code</th>\n",
       "      <th>country</th>\n",
       "      <th>geonameid</th>\n",
       "      <th>name_city</th>\n",
       "      <th>population</th>\n",
       "    </tr>\n",
       "  </thead>\n",
       "  <tbody>\n",
       "    <tr>\n",
       "      <th>9951</th>\n",
       "      <td>GB.ENG</td>\n",
       "      <td>England</td>\n",
       "      <td>GB</td>\n",
       "      <td>ENG</td>\n",
       "      <td>United Kingdom</td>\n",
       "      <td>2,647,878.0000000</td>\n",
       "      <td>Grimsby</td>\n",
       "      <td>86,138.0000000</td>\n",
       "    </tr>\n",
       "    <tr>\n",
       "      <th>8351</th>\n",
       "      <td>ES.52</td>\n",
       "      <td>Aragon</td>\n",
       "      <td>ES</td>\n",
       "      <td>52</td>\n",
       "      <td>Spain</td>\n",
       "      <td>3,123,688.0000000</td>\n",
       "      <td>Ejea de los Caballeros</td>\n",
       "      <td>17,331.0000000</td>\n",
       "    </tr>\n",
       "    <tr>\n",
       "      <th>1709</th>\n",
       "      <td>BR.06</td>\n",
       "      <td>Ceará</td>\n",
       "      <td>BR</td>\n",
       "      <td>06</td>\n",
       "      <td>Brazil</td>\n",
       "      <td>3,385,106.0000000</td>\n",
       "      <td>Viçosa do Ceará</td>\n",
       "      <td>16,636.0000000</td>\n",
       "    </tr>\n",
       "    <tr>\n",
       "      <th>12668</th>\n",
       "      <td>IN.16</td>\n",
       "      <td>Maharashtra</td>\n",
       "      <td>IN</td>\n",
       "      <td>16</td>\n",
       "      <td>India</td>\n",
       "      <td>1,260,341.0000000</td>\n",
       "      <td>Parbhani</td>\n",
       "      <td>289,629.0000000</td>\n",
       "    </tr>\n",
       "    <tr>\n",
       "      <th>27146</th>\n",
       "      <td>UZ.15</td>\n",
       "      <td>Jizzax</td>\n",
       "      <td>UZ</td>\n",
       "      <td>15</td>\n",
       "      <td>Uzbekistan</td>\n",
       "      <td>1,513,886.0000000</td>\n",
       "      <td>Jizzax</td>\n",
       "      <td>179,200.0000000</td>\n",
       "    </tr>\n",
       "    <tr>\n",
       "      <th>15658</th>\n",
       "      <td>JP.14</td>\n",
       "      <td>Ibaraki</td>\n",
       "      <td>JP</td>\n",
       "      <td>14</td>\n",
       "      <td>Japan</td>\n",
       "      <td>2,111,425.0000000</td>\n",
       "      <td>Ōmiya</td>\n",
       "      <td>27,588.0000000</td>\n",
       "    </tr>\n",
       "    <tr>\n",
       "      <th>11425</th>\n",
       "      <td>IL.03</td>\n",
       "      <td>Northern District</td>\n",
       "      <td>IL</td>\n",
       "      <td>03</td>\n",
       "      <td>Israel</td>\n",
       "      <td>295,740.0000000</td>\n",
       "      <td>Afula</td>\n",
       "      <td>44,930.0000000</td>\n",
       "    </tr>\n",
       "    <tr>\n",
       "      <th>16382</th>\n",
       "      <td>LT.63</td>\n",
       "      <td>Telsiai</td>\n",
       "      <td>LT</td>\n",
       "      <td>63</td>\n",
       "      <td>Lithuania</td>\n",
       "      <td>597,188.0000000</td>\n",
       "      <td>Mazeikiai</td>\n",
       "      <td>32,470.0000000</td>\n",
       "    </tr>\n",
       "    <tr>\n",
       "      <th>1433</th>\n",
       "      <td>BJ.12</td>\n",
       "      <td>Kouffo</td>\n",
       "      <td>BJ</td>\n",
       "      <td>12</td>\n",
       "      <td>Benin</td>\n",
       "      <td>2,395,568.0000000</td>\n",
       "      <td>Aplahoué</td>\n",
       "      <td>26,340.0000000</td>\n",
       "    </tr>\n",
       "    <tr>\n",
       "      <th>18102</th>\n",
       "      <td>NG.25</td>\n",
       "      <td>Anambra</td>\n",
       "      <td>NG</td>\n",
       "      <td>25</td>\n",
       "      <td>Nigeria</td>\n",
       "      <td>2,343,270.0000000</td>\n",
       "      <td>Enugu-Ukwu</td>\n",
       "      <td>68,785.0000000</td>\n",
       "    </tr>\n",
       "  </tbody>\n",
       "</table>\n",
       "</div>"
      ],
      "text/plain": [
       "      concatenated_codes         name_admin country_code admin1_code  \\\n",
       "9951              GB.ENG            England           GB         ENG   \n",
       "8351               ES.52             Aragon           ES          52   \n",
       "1709               BR.06              Ceará           BR          06   \n",
       "12668              IN.16        Maharashtra           IN          16   \n",
       "27146              UZ.15             Jizzax           UZ          15   \n",
       "15658              JP.14            Ibaraki           JP          14   \n",
       "11425              IL.03  Northern District           IL          03   \n",
       "16382              LT.63            Telsiai           LT          63   \n",
       "1433               BJ.12             Kouffo           BJ          12   \n",
       "18102              NG.25            Anambra           NG          25   \n",
       "\n",
       "              country         geonameid               name_city  \\\n",
       "9951   United Kingdom 2,647,878.0000000                 Grimsby   \n",
       "8351            Spain 3,123,688.0000000  Ejea de los Caballeros   \n",
       "1709           Brazil 3,385,106.0000000         Viçosa do Ceará   \n",
       "12668           India 1,260,341.0000000                Parbhani   \n",
       "27146      Uzbekistan 1,513,886.0000000                  Jizzax   \n",
       "15658           Japan 2,111,425.0000000                   Ōmiya   \n",
       "11425          Israel   295,740.0000000                   Afula   \n",
       "16382       Lithuania   597,188.0000000               Mazeikiai   \n",
       "1433            Benin 2,395,568.0000000                Aplahoué   \n",
       "18102         Nigeria 2,343,270.0000000              Enugu-Ukwu   \n",
       "\n",
       "           population  \n",
       "9951   86,138.0000000  \n",
       "8351   17,331.0000000  \n",
       "1709   16,636.0000000  \n",
       "12668 289,629.0000000  \n",
       "27146 179,200.0000000  \n",
       "15658  27,588.0000000  \n",
       "11425  44,930.0000000  \n",
       "16382  32,470.0000000  \n",
       "1433   26,340.0000000  \n",
       "18102  68,785.0000000  "
      ]
     },
     "execution_count": 20,
     "metadata": {},
     "output_type": "execute_result"
    }
   ],
   "source": [
    "joined_df.sample(10, random_state=RANDOM_STATE)"
   ]
  },
  {
   "cell_type": "markdown",
   "id": "3a156a58",
   "metadata": {},
   "source": [
    "## Фильтрация по заданному списку стран."
   ]
  },
  {
   "cell_type": "markdown",
   "id": "6219fdbb",
   "metadata": {},
   "source": [
    "В соответствии с Техническим Заданием, проводится фильтрация данных, оставляя только информацию о странах, указанных в списке: Россия, Беларусь, Армения, Казахстан, Кыргызстан, Турция, Сербия.\n",
    "\n",
    "Предложенное решение не ограничивается только указанным списком стран. Оно масштабируется на большее количество требуемых стран. Это позволяет расширить функциональность системы в будущем, добавляя новые страны в список без необходимости значительных изменений в архитектуре решения."
   ]
  },
  {
   "cell_type": "code",
   "execution_count": 21,
   "id": "a61f4784",
   "metadata": {},
   "outputs": [
    {
     "data": {
      "text/plain": [
       "['RU', 'BY', 'KG', 'KZ', 'AM', 'TR', 'RS']"
      ]
     },
     "execution_count": 21,
     "metadata": {},
     "output_type": "execute_result"
    }
   ],
   "source": [
    "SELECTED_COUNTRY_CODES"
   ]
  },
  {
   "cell_type": "code",
   "execution_count": 22,
   "id": "1d3fe570",
   "metadata": {},
   "outputs": [],
   "source": [
    "# Выбор городов из DataFrame joined_df по заданным странам\n",
    "selected_cities = joined_df[\n",
    "    joined_df['country_code'].isin(SELECTED_COUNTRY_CODES)\n",
    "].reset_index(drop=True)"
   ]
  },
  {
   "cell_type": "markdown",
   "id": "48f2896d",
   "metadata": {},
   "source": [
    "Пример набора данных для России и Ярославской области"
   ]
  },
  {
   "cell_type": "code",
   "execution_count": 23,
   "id": "3c0ec8d1",
   "metadata": {},
   "outputs": [
    {
     "data": {
      "text/html": [
       "<div>\n",
       "<style scoped>\n",
       "    .dataframe tbody tr th:only-of-type {\n",
       "        vertical-align: middle;\n",
       "    }\n",
       "\n",
       "    .dataframe tbody tr th {\n",
       "        vertical-align: top;\n",
       "    }\n",
       "\n",
       "    .dataframe thead th {\n",
       "        text-align: right;\n",
       "    }\n",
       "</style>\n",
       "<table border=\"1\" class=\"dataframe\">\n",
       "  <thead>\n",
       "    <tr style=\"text-align: right;\">\n",
       "      <th></th>\n",
       "      <th>concatenated_codes</th>\n",
       "      <th>name_admin</th>\n",
       "      <th>country_code</th>\n",
       "      <th>admin1_code</th>\n",
       "      <th>country</th>\n",
       "      <th>geonameid</th>\n",
       "      <th>name_city</th>\n",
       "      <th>population</th>\n",
       "    </tr>\n",
       "  </thead>\n",
       "  <tbody>\n",
       "    <tr>\n",
       "      <th>224</th>\n",
       "      <td>RU.88</td>\n",
       "      <td>Yaroslavl Oblast</td>\n",
       "      <td>RU</td>\n",
       "      <td>88</td>\n",
       "      <td>Russia</td>\n",
       "      <td>468,902.0000000</td>\n",
       "      <td>Yaroslavl</td>\n",
       "      <td>608,722.0000000</td>\n",
       "    </tr>\n",
       "    <tr>\n",
       "      <th>225</th>\n",
       "      <td>RU.88</td>\n",
       "      <td>Yaroslavl Oblast</td>\n",
       "      <td>RU</td>\n",
       "      <td>88</td>\n",
       "      <td>Russia</td>\n",
       "      <td>479,532.0000000</td>\n",
       "      <td>Uglich</td>\n",
       "      <td>37,732.0000000</td>\n",
       "    </tr>\n",
       "    <tr>\n",
       "      <th>226</th>\n",
       "      <td>RU.88</td>\n",
       "      <td>Yaroslavl Oblast</td>\n",
       "      <td>RU</td>\n",
       "      <td>88</td>\n",
       "      <td>Russia</td>\n",
       "      <td>480,122.0000000</td>\n",
       "      <td>Tutayev</td>\n",
       "      <td>43,828.0000000</td>\n",
       "    </tr>\n",
       "    <tr>\n",
       "      <th>227</th>\n",
       "      <td>RU.88</td>\n",
       "      <td>Yaroslavl Oblast</td>\n",
       "      <td>RU</td>\n",
       "      <td>88</td>\n",
       "      <td>Russia</td>\n",
       "      <td>500,004.0000000</td>\n",
       "      <td>Rybinsk</td>\n",
       "      <td>216,724.0000000</td>\n",
       "    </tr>\n",
       "    <tr>\n",
       "      <th>228</th>\n",
       "      <td>RU.88</td>\n",
       "      <td>Yaroslavl Oblast</td>\n",
       "      <td>RU</td>\n",
       "      <td>88</td>\n",
       "      <td>Russia</td>\n",
       "      <td>501,183.0000000</td>\n",
       "      <td>Rostov</td>\n",
       "      <td>31,039.0000000</td>\n",
       "    </tr>\n",
       "    <tr>\n",
       "      <th>229</th>\n",
       "      <td>RU.88</td>\n",
       "      <td>Yaroslavl Oblast</td>\n",
       "      <td>RU</td>\n",
       "      <td>88</td>\n",
       "      <td>Russia</td>\n",
       "      <td>511,359.0000000</td>\n",
       "      <td>Pereslavl’-Zalesskiy</td>\n",
       "      <td>40,283.0000000</td>\n",
       "    </tr>\n",
       "    <tr>\n",
       "      <th>230</th>\n",
       "      <td>RU.88</td>\n",
       "      <td>Yaroslavl Oblast</td>\n",
       "      <td>RU</td>\n",
       "      <td>88</td>\n",
       "      <td>Russia</td>\n",
       "      <td>561,762.0000000</td>\n",
       "      <td>Gavrilov-Yam</td>\n",
       "      <td>17,351.0000000</td>\n",
       "    </tr>\n",
       "    <tr>\n",
       "      <th>231</th>\n",
       "      <td>RU.88</td>\n",
       "      <td>Yaroslavl Oblast</td>\n",
       "      <td>RU</td>\n",
       "      <td>88</td>\n",
       "      <td>Russia</td>\n",
       "      <td>567,183.0000000</td>\n",
       "      <td>Danilov</td>\n",
       "      <td>16,808.0000000</td>\n",
       "    </tr>\n",
       "  </tbody>\n",
       "</table>\n",
       "</div>"
      ],
      "text/plain": [
       "    concatenated_codes        name_admin country_code admin1_code country  \\\n",
       "224              RU.88  Yaroslavl Oblast           RU          88  Russia   \n",
       "225              RU.88  Yaroslavl Oblast           RU          88  Russia   \n",
       "226              RU.88  Yaroslavl Oblast           RU          88  Russia   \n",
       "227              RU.88  Yaroslavl Oblast           RU          88  Russia   \n",
       "228              RU.88  Yaroslavl Oblast           RU          88  Russia   \n",
       "229              RU.88  Yaroslavl Oblast           RU          88  Russia   \n",
       "230              RU.88  Yaroslavl Oblast           RU          88  Russia   \n",
       "231              RU.88  Yaroslavl Oblast           RU          88  Russia   \n",
       "\n",
       "          geonameid             name_city      population  \n",
       "224 468,902.0000000             Yaroslavl 608,722.0000000  \n",
       "225 479,532.0000000                Uglich  37,732.0000000  \n",
       "226 480,122.0000000               Tutayev  43,828.0000000  \n",
       "227 500,004.0000000               Rybinsk 216,724.0000000  \n",
       "228 501,183.0000000                Rostov  31,039.0000000  \n",
       "229 511,359.0000000  Pereslavl’-Zalesskiy  40,283.0000000  \n",
       "230 561,762.0000000          Gavrilov-Yam  17,351.0000000  \n",
       "231 567,183.0000000               Danilov  16,808.0000000  "
      ]
     },
     "execution_count": 23,
     "metadata": {},
     "output_type": "execute_result"
    }
   ],
   "source": [
    "selected_cities[(selected_cities['country_code'] == 'RU') & (selected_cities['admin1_code'] == '88')]"
   ]
  },
  {
   "cell_type": "markdown",
   "id": "9cef4eb5",
   "metadata": {},
   "source": [
    "## Fine Tuning моделей."
   ]
  },
  {
   "cell_type": "markdown",
   "id": "1c626efa",
   "metadata": {},
   "source": [
    "Как было отмечено выше, в качестве базовой модели была выбрана sentence-transformers/LaBSE по причине её достаточно большой мультиязычности. Дообучение модели производилось на отдельной платформе с использованием GPU P100. Ниже приведён пример кода дообучения модели."
   ]
  },
  {
   "cell_type": "markdown",
   "id": "58cb72b9",
   "metadata": {},
   "source": [
    "```python\n",
    "import IPython\n",
    "import pandas as pd\n",
    "\n",
    "from sentence_transformers import SentenceTransformer, InputExample, losses\n",
    "from torch.utils.data import DataLoader\n",
    "```"
   ]
  },
  {
   "cell_type": "markdown",
   "id": "a26b2353",
   "metadata": {},
   "source": [
    "Для создания обучающих данных из датасета cities15000.txt, основное имя города и все его возможные альтернативные названия. Подготавливаются данные для дообучения в формате InputExample, где каждый элемент представляет собой пару текстов для обучения."
   ]
  },
  {
   "cell_type": "markdown",
   "id": "be85de3b",
   "metadata": {},
   "source": [
    "```python\n",
    "# Извлечение столбца 'name' из датафрейма cities15000 и преобразование его в список\n",
    "names = cities15000['name'].tolist()\n",
    "\n",
    "# Извлечение столбца 'alternate_names' из датафрейма cities15000, разделение строк на списки и создание списка списков\n",
    "alternate_names = [alt_names.split(',') for alt_names in cities15000['alternate_names']]\n",
    "\n",
    "# Создание списка InputExample для каждой комбинации 'name' и 'alternate_names'\n",
    "result_list = []\n",
    "for name, alt_names in zip(names, alternate_names):\n",
    "    for alt_name in alt_names:\n",
    "        # Создание объекта InputExample и добавление его в result_list\n",
    "        result_list.append(InputExample(texts=[name.strip(), alt_name.strip()]))\n",
    "\n",
    "```"
   ]
  },
  {
   "cell_type": "markdown",
   "id": "41161dfd",
   "metadata": {},
   "source": [
    "Используется SentenceTransformer для загрузки предварительно обученной модели LaBSE.<br>\n",
    "Определяется функция потерь MegaBatchMarginLoss для дообучения модели.<br>\n",
    "Создается DataLoader для обучения с учетом размера батча."
   ]
  },
  {
   "cell_type": "markdown",
   "id": "7d8e9f7b",
   "metadata": {},
   "source": [
    "```python\n",
    "# Инициализация модели SentenceTransformer с использованием предобученной модели 'sentence-transformers/LaBSE'\n",
    "model = SentenceTransformer('sentence-transformers/LaBSE')\n",
    "\n",
    "# Создание DataLoader для тренировочного датасета result_list с перемешиванием и размером пакета 16\n",
    "train_dataloader = DataLoader(result_list, shuffle=True, batch_size=16)\n",
    "\n",
    "# Инициализация функции потерь MegaBatchMarginLoss для обучения модели с использованием заданной модели\n",
    "train_loss = losses.MegaBatchMarginLoss(model)\n",
    "\n",
    "```"
   ]
  },
  {
   "cell_type": "markdown",
   "id": "28923023",
   "metadata": {},
   "source": [
    "```python\n",
    "%%time\n",
    "\n",
    "# Дообучение модели с использованием заданных параметров\n",
    "model.fit(train_objectives=[(train_dataloader, train_loss)], epochs=3, warmup_steps=100)\n",
    "```"
   ]
  },
  {
   "cell_type": "markdown",
   "id": "ed3f9e29",
   "metadata": {},
   "source": [
    "Дообученная модель сохраняется для дальнейшего использования."
   ]
  },
  {
   "cell_type": "markdown",
   "id": "3f7c0d7b",
   "metadata": {},
   "source": [
    "```python\n",
    "# Сохранение обученной модели по указанному пути\n",
    "model.save('./LaBSE-geonames-15K-MBML-3e-v1')\n",
    "```"
   ]
  },
  {
   "cell_type": "markdown",
   "id": "8087b93a",
   "metadata": {},
   "source": [
    "Дообучение модели sentence-transformers/LaBSE было проведено в четырёх версиях с разным числом эпох (1, 3, 5 и 10). Данные модели доступны на платформе HuggingFace по [ссылке](https://huggingface.co/dima-does-code)."
   ]
  },
  {
   "cell_type": "markdown",
   "id": "4c2e996a",
   "metadata": {},
   "source": [
    "## Тестирование моделей."
   ]
  },
  {
   "cell_type": "markdown",
   "id": "1e992140",
   "metadata": {},
   "source": [
    "Тестирование моделей проведено на наборе данных, предоставленных заказчиком. Данный набор включает 345 тестовых строк, каждая из которых содержит запрос (query) и ожидаемый верный результат исполнения запроса."
   ]
  },
  {
   "cell_type": "markdown",
   "id": "509a3050",
   "metadata": {},
   "source": [
    "### Подключение к Postgres."
   ]
  },
  {
   "cell_type": "markdown",
   "id": "a11d2722",
   "metadata": {},
   "source": [
    "Для эффективного хранения и управления результатами работы модели было используется база данных Postgres с инерфейсом доступа  SQLAlchemy."
   ]
  },
  {
   "cell_type": "code",
   "execution_count": 24,
   "id": "3c33637b",
   "metadata": {},
   "outputs": [],
   "source": [
    "# Создание объекта SQLAlchemy Engine для подключения к базе данных\n",
    "engine = create_engine(URL(**DATABASE))"
   ]
  },
  {
   "cell_type": "markdown",
   "id": "b844d2c4",
   "metadata": {},
   "source": [
    "### Подготовка данных."
   ]
  },
  {
   "cell_type": "code",
   "execution_count": 25,
   "id": "fc2d77bd",
   "metadata": {},
   "outputs": [],
   "source": [
    "true_set = pd.read_csv(\n",
    "    # Путь к файлу с информацией о странах\n",
    "    DATA + 'geo_test.csv', \n",
    "    # Разделитель в файле - табуляция\n",
    "    delimiter=';'\n",
    ")"
   ]
  },
  {
   "cell_type": "code",
   "execution_count": 26,
   "id": "acadbfb9",
   "metadata": {},
   "outputs": [
    {
     "name": "stdout",
     "output_type": "stream",
     "text": [
      "<class 'pandas.core.frame.DataFrame'>\n",
      "RangeIndex: 345 entries, 0 to 344\n",
      "Data columns (total 4 columns):\n",
      " #   Column   Non-Null Count  Dtype \n",
      "---  ------   --------------  ----- \n",
      " 0   query    345 non-null    object\n",
      " 1   name     345 non-null    object\n",
      " 2   region   345 non-null    object\n",
      " 3   country  345 non-null    object\n",
      "dtypes: object(4)\n",
      "memory usage: 10.9+ KB\n"
     ]
    }
   ],
   "source": [
    "# Вывод информации о структуре и типах данных в датафрейме true_set\n",
    "true_set.info()"
   ]
  },
  {
   "cell_type": "code",
   "execution_count": 27,
   "id": "4797aa1d",
   "metadata": {},
   "outputs": [],
   "source": [
    "# Извлечение столбца 'query' из датафрейма true_set\n",
    "X_true = true_set['query'][:300]\n",
    "\n",
    "# Извлечение всех столбцов из датафрейма true_set, за исключением 'query'\n",
    "y_true = true_set.drop('query', axis=1)[:300]"
   ]
  },
  {
   "cell_type": "markdown",
   "id": "f01ef9c9",
   "metadata": {},
   "source": [
    "### Оценка метрик моделей."
   ]
  },
  {
   "cell_type": "code",
   "execution_count": 28,
   "id": "2cb247e5",
   "metadata": {
    "scrolled": false
   },
   "outputs": [
    {
     "name": "stdout",
     "output_type": "stream",
     "text": [
      "Корпус эмбеддингов 'ce_labse_geonames_15k_mbml_1e_v1' загружен.\n",
      "Модель 'dima-does-code/LaBSE-geonames-15K-MBML-1e-v1' обработана.\n",
      "\n",
      "Корпус эмбеддингов 'ce_labse_geonames_15k_mbml_3e_v1' загружен.\n",
      "Модель 'dima-does-code/LaBSE-geonames-15K-MBML-3e-v1' обработана.\n",
      "\n",
      "Корпус эмбеддингов 'ce_labse_geonames_15k_mbml_5e_v1' загружен.\n",
      "Модель 'dima-does-code/LaBSE-geonames-15K-MBML-5e-v1' обработана.\n",
      "\n",
      "Корпус эмбеддингов 'ce_labse_geonames_15k_mbml_10e_v1' загружен.\n",
      "Модель 'dima-does-code/LaBSE-geonames-15K-MBML-10e-v1' обработана.\n",
      "\n",
      "Корпус эмбеддингов 'ce_labse_geonames_v1' загружен.\n",
      "Модель 'wasjaip/LaBSE_geonames_v1' обработана.\n",
      "\n",
      "CPU times: total: 15min 31s\n",
      "Wall time: 9min 10s\n"
     ]
    }
   ],
   "source": [
    "%%time\n",
    "\n",
    "# Список моделей для оценки\n",
    "model_names = [\n",
    "    'dima-does-code/LaBSE-geonames-15K-MBML-1e-v1',\n",
    "    'dima-does-code/LaBSE-geonames-15K-MBML-3e-v1',\n",
    "    'dima-does-code/LaBSE-geonames-15K-MBML-5e-v1',\n",
    "    'dima-does-code/LaBSE-geonames-15K-MBML-10e-v1',\n",
    "    'wasjaip/LaBSE_geonames_v1'\n",
    "]\n",
    "\n",
    "# Создаем датафрейм для хранения результатов\n",
    "results_df = pd.DataFrame(columns=['Model', 'Accuracy'])\n",
    "\n",
    "# Создаем объект для инспекции базы данных\n",
    "inspector = inspect(engine)\n",
    "\n",
    "for model_name in model_names:\n",
    "    # Загрузка модели\n",
    "    EMBEDDER = SentenceTransformer(model_name)\n",
    "\n",
    "    # Получаем короткое имя модели\n",
    "    suffix = model_name.split('/')[-1].replace('-', '_').lower()\n",
    "    # Таблица которую мы хотим проверить\n",
    "    table_name = f'ce_{suffix}'\n",
    "    \n",
    "    # Проверяем наличие таблицы\n",
    "    if inspector.has_table(table_name):\n",
    "        # Чтение данных из таблицы\n",
    "        CORPUS_EMBEDDINGS = pd.read_sql(table_name, con=engine).astype('float32').values\n",
    "        \n",
    "        print(f\"Корпус эмбеддингов '{table_name}' загружен.\")\n",
    "    else:\n",
    "        corpus = selected_cities['name_city']\n",
    "        # Векторное кодирование текстового корпуса городов\n",
    "        CORPUS_EMBEDDINGS = EMBEDDER.encode(corpus, convert_to_tensor=False)\n",
    "        # Сохранение векторных эмбеддингов в таблицу\n",
    "        pd.DataFrame(CORPUS_EMBEDDINGS).to_sql(\n",
    "            table_name, con=engine,\n",
    "            if_exists='replace',\n",
    "            index=False\n",
    "        )\n",
    "        \n",
    "        print(f\"Корпус эмбеддингов '{table_name}' создан.\")\n",
    "\n",
    "    # Оценка метрик\n",
    "    y_inference = my_predict(X_true)  # Функция предсказания\n",
    "    accuracy = my_accuracy_score(y_true, y_inference)  # Функция оценки точности\n",
    "\n",
    "    # Добавление результатов в датафрейм\n",
    "    results_df = pd.concat([results_df, pd.DataFrame(\n",
    "        {'Model': [model_name], 'Accuracy': [accuracy]}\n",
    "    )], ignore_index=True)\n",
    "    \n",
    "    print(f\"Модель '{model_name}' обработана.\\n\")"
   ]
  },
  {
   "cell_type": "code",
   "execution_count": 29,
   "id": "8ff774ac",
   "metadata": {},
   "outputs": [
    {
     "data": {
      "text/html": [
       "<div>\n",
       "<style scoped>\n",
       "    .dataframe tbody tr th:only-of-type {\n",
       "        vertical-align: middle;\n",
       "    }\n",
       "\n",
       "    .dataframe tbody tr th {\n",
       "        vertical-align: top;\n",
       "    }\n",
       "\n",
       "    .dataframe thead th {\n",
       "        text-align: right;\n",
       "    }\n",
       "</style>\n",
       "<table border=\"1\" class=\"dataframe\">\n",
       "  <thead>\n",
       "    <tr style=\"text-align: right;\">\n",
       "      <th></th>\n",
       "      <th>Model</th>\n",
       "      <th>Accuracy</th>\n",
       "    </tr>\n",
       "  </thead>\n",
       "  <tbody>\n",
       "    <tr>\n",
       "      <th>2</th>\n",
       "      <td>dima-does-code/LaBSE-geonames-15K-MBML-5e-v1</td>\n",
       "      <td>0.9033333</td>\n",
       "    </tr>\n",
       "    <tr>\n",
       "      <th>1</th>\n",
       "      <td>dima-does-code/LaBSE-geonames-15K-MBML-3e-v1</td>\n",
       "      <td>0.9000000</td>\n",
       "    </tr>\n",
       "    <tr>\n",
       "      <th>4</th>\n",
       "      <td>wasjaip/LaBSE_geonames_v1</td>\n",
       "      <td>0.9000000</td>\n",
       "    </tr>\n",
       "    <tr>\n",
       "      <th>0</th>\n",
       "      <td>dima-does-code/LaBSE-geonames-15K-MBML-1e-v1</td>\n",
       "      <td>0.8966667</td>\n",
       "    </tr>\n",
       "    <tr>\n",
       "      <th>3</th>\n",
       "      <td>dima-does-code/LaBSE-geonames-15K-MBML-10e-v1</td>\n",
       "      <td>0.8966667</td>\n",
       "    </tr>\n",
       "  </tbody>\n",
       "</table>\n",
       "</div>"
      ],
      "text/plain": [
       "                                           Model  Accuracy\n",
       "2   dima-does-code/LaBSE-geonames-15K-MBML-5e-v1 0.9033333\n",
       "1   dima-does-code/LaBSE-geonames-15K-MBML-3e-v1 0.9000000\n",
       "4                      wasjaip/LaBSE_geonames_v1 0.9000000\n",
       "0   dima-does-code/LaBSE-geonames-15K-MBML-1e-v1 0.8966667\n",
       "3  dima-does-code/LaBSE-geonames-15K-MBML-10e-v1 0.8966667"
      ]
     },
     "execution_count": 29,
     "metadata": {},
     "output_type": "execute_result"
    }
   ],
   "source": [
    "results_df = results_df.sort_values(by='Accuracy', ascending=False)\n",
    "results_df"
   ]
  },
  {
   "cell_type": "markdown",
   "id": "d63e13c6",
   "metadata": {},
   "source": [
    "Таким образом, анализ метрик эффективности показал, что наиболее работоспособной оказалась модель, дообученная на пяти эпохах. Более глубокое обучение приводит к снижению эффективности."
   ]
  },
  {
   "cell_type": "markdown",
   "id": "7c7f5246",
   "metadata": {},
   "source": [
    "### Загрузка лучшей модели и эмбеддингов."
   ]
  },
  {
   "cell_type": "code",
   "execution_count": 30,
   "id": "1340d992",
   "metadata": {},
   "outputs": [
    {
     "name": "stdout",
     "output_type": "stream",
     "text": [
      "Лучшая модель: dima-does-code/LaBSE-geonames-15K-MBML-5e-v1\n"
     ]
    }
   ],
   "source": [
    "best_model_name = results_df.iloc[0]['Model']\n",
    "print(f'Лучшая модель: {best_model_name}')"
   ]
  },
  {
   "cell_type": "code",
   "execution_count": 31,
   "id": "24e7b9ae",
   "metadata": {},
   "outputs": [],
   "source": [
    "# Создание экземпляра SentenceTransformer с использованием лучшей модели\n",
    "EMBEDDER = SentenceTransformer(best_model_name)"
   ]
  },
  {
   "cell_type": "code",
   "execution_count": 32,
   "id": "a47b88c2",
   "metadata": {},
   "outputs": [],
   "source": [
    "# Получаем короткое имя модели\n",
    "suffix = best_model_name.split('/')[-1].replace('-', '_').lower()\n",
    "\n",
    "# Таблица которую мы хотим проверить\n",
    "best_table_name = f'ce_{suffix}'\n",
    "\n",
    "# Загрузка корпуса эмбеддингов\n",
    "CORPUS_EMBEDDINGS = pd.read_sql(best_table_name, con=engine).astype('float32').values"
   ]
  },
  {
   "cell_type": "markdown",
   "id": "ca5bf0dd",
   "metadata": {},
   "source": [
    "### Сохранение DataFrames в Postgres."
   ]
  },
  {
   "cell_type": "code",
   "execution_count": 33,
   "id": "e2a95dd1",
   "metadata": {},
   "outputs": [
    {
     "data": {
      "text/plain": [
       "711"
      ]
     },
     "execution_count": 33,
     "metadata": {},
     "output_type": "execute_result"
    }
   ],
   "source": [
    "# Запись DataFrames в таблицы базы данных с заменой существующих данных\n",
    "cities15000.to_sql(\n",
    "    'cities15000',\n",
    "    con=engine,\n",
    "    if_exists='replace',\n",
    "    index=False\n",
    ")\n",
    "countries.to_sql(\n",
    "    'countries', \n",
    "    con=engine,\n",
    "    if_exists='replace',\n",
    "    index=False\n",
    ")\n",
    "admin_codes.to_sql(\n",
    "    'admin_codes',\n",
    "    con=engine,\n",
    "    if_exists='replace',\n",
    "    index=False\n",
    ")\n",
    "selected_cities.to_sql(\n",
    "    'selected_cities', \n",
    "    con=engine, \n",
    "    if_exists='replace',\n",
    "    index=False\n",
    ")"
   ]
  },
  {
   "cell_type": "code",
   "execution_count": 34,
   "id": "4300f4f8",
   "metadata": {},
   "outputs": [],
   "source": [
    "# Освобождение ресурсов\n",
    "engine.dispose()"
   ]
  },
  {
   "cell_type": "markdown",
   "id": "e9a5e13a",
   "metadata": {},
   "source": [
    "## Демонстрация работы модели."
   ]
  },
  {
   "cell_type": "markdown",
   "id": "946f2e87",
   "metadata": {},
   "source": [
    "Для иллюстрации функциональности модели ниже приведено тестирование на двусмысленном запросе использующем слово \"Каштана\"."
   ]
  },
  {
   "cell_type": "markdown",
   "id": "b59091bd",
   "metadata": {},
   "source": [
    "### Вывод в наглядном виде DataFrame."
   ]
  },
  {
   "cell_type": "code",
   "execution_count": 35,
   "id": "1945626f",
   "metadata": {},
   "outputs": [
    {
     "data": {
      "text/html": [
       "<div>\n",
       "<style scoped>\n",
       "    .dataframe tbody tr th:only-of-type {\n",
       "        vertical-align: middle;\n",
       "    }\n",
       "\n",
       "    .dataframe tbody tr th {\n",
       "        vertical-align: top;\n",
       "    }\n",
       "\n",
       "    .dataframe thead th {\n",
       "        text-align: right;\n",
       "    }\n",
       "</style>\n",
       "<table border=\"1\" class=\"dataframe\">\n",
       "  <thead>\n",
       "    <tr style=\"text-align: right;\">\n",
       "      <th></th>\n",
       "      <th>name</th>\n",
       "      <th>code</th>\n",
       "      <th>region</th>\n",
       "      <th>country</th>\n",
       "      <th>similarity</th>\n",
       "    </tr>\n",
       "  </thead>\n",
       "  <tbody>\n",
       "    <tr>\n",
       "      <th>0</th>\n",
       "      <td>Kostanay</td>\n",
       "      <td>KZ.13</td>\n",
       "      <td>Qostanay</td>\n",
       "      <td>Kazakhstan</td>\n",
       "      <td>0.6531620</td>\n",
       "    </tr>\n",
       "    <tr>\n",
       "      <th>1</th>\n",
       "      <td>Keşan</td>\n",
       "      <td>TR.22</td>\n",
       "      <td>Edirne</td>\n",
       "      <td>Turkey</td>\n",
       "      <td>0.5898916</td>\n",
       "    </tr>\n",
       "    <tr>\n",
       "      <th>2</th>\n",
       "      <td>Astana</td>\n",
       "      <td>KZ.05</td>\n",
       "      <td>Astana</td>\n",
       "      <td>Kazakhstan</td>\n",
       "      <td>0.5861758</td>\n",
       "    </tr>\n",
       "    <tr>\n",
       "      <th>3</th>\n",
       "      <td>Kazan</td>\n",
       "      <td>TR.68</td>\n",
       "      <td>Ankara</td>\n",
       "      <td>Turkey</td>\n",
       "      <td>0.5836099</td>\n",
       "    </tr>\n",
       "    <tr>\n",
       "      <th>4</th>\n",
       "      <td>Kazan</td>\n",
       "      <td>RU.73</td>\n",
       "      <td>Tatarstan Republic</td>\n",
       "      <td>Russia</td>\n",
       "      <td>0.5836099</td>\n",
       "    </tr>\n",
       "  </tbody>\n",
       "</table>\n",
       "</div>"
      ],
      "text/plain": [
       "       name   code              region     country  similarity\n",
       "0  Kostanay  KZ.13            Qostanay  Kazakhstan   0.6531620\n",
       "1     Keşan  TR.22              Edirne      Turkey   0.5898916\n",
       "2    Astana  KZ.05              Astana  Kazakhstan   0.5861758\n",
       "3     Kazan  TR.68              Ankara      Turkey   0.5836099\n",
       "4     Kazan  RU.73  Tatarstan Republic      Russia   0.5836099"
      ]
     },
     "execution_count": 35,
     "metadata": {},
     "output_type": "execute_result"
    }
   ],
   "source": [
    "my_get_similar('Каштана', top_k=5)"
   ]
  },
  {
   "cell_type": "markdown",
   "id": "1a90cd3a",
   "metadata": {},
   "source": [
    "### Вывод согласно Техническому Заданию."
   ]
  },
  {
   "cell_type": "code",
   "execution_count": 36,
   "id": "dfda0244",
   "metadata": {},
   "outputs": [
    {
     "data": {
      "text/plain": [
       "[{'name': 'Kostanay',\n",
       "  'code': 'KZ.13',\n",
       "  'region': 'Qostanay',\n",
       "  'country': 'Kazakhstan',\n",
       "  'similarity': 0.6531620025634766},\n",
       " {'name': 'Keşan',\n",
       "  'code': 'TR.22',\n",
       "  'region': 'Edirne',\n",
       "  'country': 'Turkey',\n",
       "  'similarity': 0.5898915529251099},\n",
       " {'name': 'Astana',\n",
       "  'code': 'KZ.05',\n",
       "  'region': 'Astana',\n",
       "  'country': 'Kazakhstan',\n",
       "  'similarity': 0.586175799369812},\n",
       " {'name': 'Kazan',\n",
       "  'code': 'TR.68',\n",
       "  'region': 'Ankara',\n",
       "  'country': 'Turkey',\n",
       "  'similarity': 0.583609938621521},\n",
       " {'name': 'Kazan',\n",
       "  'code': 'RU.73',\n",
       "  'region': 'Tatarstan Republic',\n",
       "  'country': 'Russia',\n",
       "  'similarity': 0.583609938621521}]"
      ]
     },
     "execution_count": 36,
     "metadata": {},
     "output_type": "execute_result"
    }
   ],
   "source": [
    "my_get_similar('Каштана', top_k=5, is_dictionary=True)"
   ]
  },
  {
   "cell_type": "markdown",
   "id": "b54a2751",
   "metadata": {},
   "source": [
    "Модель успешно определила два подходящих названия городов: \"Кустанай\" и \"Астана\". Таким образом способность модели разрешать многозначность в запросах достаточно эффективна."
   ]
  },
  {
   "cell_type": "markdown",
   "id": "7be40a4d",
   "metadata": {},
   "source": [
    "## Общий вывод и рекомендации."
   ]
  },
  {
   "cell_type": "markdown",
   "id": "8251615f",
   "metadata": {},
   "source": [
    "### Общий вывод."
   ]
  },
  {
   "cell_type": "markdown",
   "id": "ff509684",
   "metadata": {},
   "source": [
    "Работа по созданию и тестированию модели, основанной на SentenceTransformer LaBSE, для определения данных географических объектов по текстовым запросам показала свою эффективность. В ходе выполнения проекта были проведены следующие ключевые шаги:\n",
    "\n",
    "1. <b>Постановка задачи:</b>\n",
    "   Задача заключалась в разработке модели, способной определять географические данные объектов по текстовым запросам, учитывая многозначность и различные языки.\n",
    "\n",
    "2. <b>Применяемый подход:</b>\n",
    "   Выбор SentenceTransformer LaBSE обусловлен её мультиязычностью и эффективностью в задачах поиска переводных пар.\n",
    "\n",
    "3. <b>Дообучение и тестирование:</b>\n",
    "   Модель была дообучена на данных с учетом особенностей географических названий и прошла тестирование на тестовой выборке заказчика.\n",
    "\n",
    "4. <b>Результаты работы:</b>\n",
    "   Из нескольких вариантов дообучения, наиболее эффективной оказалась модель, дообученная на пяти эпохах.\n",
    "\n",
    "5. <b>Демонстрация функциональности:</b>\n",
    "   Продемонстрирована способность модели разрешать многозначность в запросах, успешно определяя данные географических объектов."
   ]
  },
  {
   "cell_type": "markdown",
   "id": "45045d44",
   "metadata": {},
   "source": [
    "### Рекомендации."
   ]
  },
  {
   "cell_type": "markdown",
   "id": "20039589",
   "metadata": {},
   "source": [
    "1. <b>Мониторинг и обновление:</b>\n",
    "   Рекомендуется установить систему мониторинга эффективности модели и регулярно обновлять ее, учитывая появление новых данных и изменение запросов пользователей.\n",
    "\n",
    "2. <b>Расширение списка стран:</b>\n",
    "   Возможно расширение списка стран для учета запросов, касающихся более широкого множества географических объектов.\n",
    "\n",
    "3. <b>Взаимодействие с пользователем:</b>\n",
    "   Внедрение возможности взаимодействия с пользователем для обработки неоднозначных запросов и уточнения предоставленных данных.\n",
    "\n",
    "4. <b>Обновление базы данных:</b>\n",
    "   Рекомендуется периодически обновлять базу данных, чтобы учесть изменения в географии и названиях объектов.\n",
    "\n",
    "5. <b>Работа с многозначностью:</b>\n",
    "   Рассмотреть возможность улучшения модели в разрешении многозначности, особенно в случаях, когда запрос содержит неоднозначные названия.\n",
    "\n",
    "6. <b>Безопасность и конфиденциальность:</b>\n",
    "   Уделить внимание вопросам безопасности и конфиденциальности при взаимодействии с данными пользователей.\n",
    "\n",
    "7. <b>Сбор обратной связи:</b>\n",
    "   Организовать систему сбора обратной связи пользователей для постоянного улучшения работы модели и соответствия её потребностям."
   ]
  },
  {
   "cell_type": "markdown",
   "id": "c32919f6",
   "metadata": {},
   "source": [
    "### Улучшения и перспективы."
   ]
  },
  {
   "cell_type": "markdown",
   "id": "e5fa6e4e",
   "metadata": {},
   "source": [
    "Проект может быть дополнен следующими улучшениями:\n",
    "\n",
    "1. <b>Интеграция с другими источниками данных:</b>\n",
    "   Рассмотреть возможность интеграции с другими источниками географических данных для более полного охвата информации.\n",
    "\n",
    "2. <b>Работа с уточняющими запросами:</b>\n",
    "   Разработать механизм обработки уточняющих запросов пользователей для более точного определения географических объектов.\n",
    "\n",
    "3. <b>Учет изменений в языковых особенностях:</b>\n",
    "   Регулярно обновлять модель с учетом изменений в языковых особенностях и расширения географии применения.\n",
    "\n",
    "4. <b>Масштабирование:</b>\n",
    "   Рассмотреть возможность масштабирования модели для работы с большим объемом данных и расширения функциональности.\n",
    "   \n",
    "5. <b>Расширенное дообучение:</b>\n",
    "   Рассмотреть возможность расширенного дообучения модели на специально сформированных обучающих датасетах.\n",
    "\n",
    "В целом, разработанная модель предоставляет надежный инструмент для определения данных географических объектов по текстовым запросам и ее дальнейшее развитие может привести к улучшению точности и расширению функциональных возможностей."
   ]
  },
  {
   "attachments": {
    "image.png": {
     "image/png": "[encoded data removed]"
    }
   },
   "cell_type": "markdown",
   "id": "1f671eee",
   "metadata": {},
   "source": [
    "![image.png](attachment:image.png)"
   ]
  }
 ],
 "metadata": {
  "ExecuteTimeLog": [
   {
    "duration": 54,
    "start_time": "2023-11-03T12:07:32.973Z"
   },
   {
    "duration": 0,
    "start_time": "2023-11-03T12:07:33.029Z"
   },
   {
    "duration": 0,
    "start_time": "2023-11-03T12:07:33.030Z"
   },
   {
    "duration": 0,
    "start_time": "2023-11-03T12:07:33.032Z"
   },
   {
    "duration": 0,
    "start_time": "2023-11-03T12:07:33.033Z"
   },
   {
    "duration": 0,
    "start_time": "2023-11-03T12:07:33.034Z"
   },
   {
    "duration": 0,
    "start_time": "2023-11-03T12:07:33.035Z"
   },
   {
    "duration": 0,
    "start_time": "2023-11-03T12:07:33.036Z"
   },
   {
    "duration": 0,
    "start_time": "2023-11-03T12:07:33.037Z"
   },
   {
    "duration": 0,
    "start_time": "2023-11-03T12:07:33.038Z"
   },
   {
    "duration": 0,
    "start_time": "2023-11-03T12:07:33.039Z"
   },
   {
    "duration": 0,
    "start_time": "2023-11-03T12:07:33.041Z"
   },
   {
    "duration": 0,
    "start_time": "2023-11-03T12:07:33.042Z"
   },
   {
    "duration": 9,
    "start_time": "2023-11-03T12:07:33.045Z"
   },
   {
    "duration": 0,
    "start_time": "2023-11-03T12:07:33.056Z"
   },
   {
    "duration": 0,
    "start_time": "2023-11-03T12:07:33.057Z"
   },
   {
    "duration": 0,
    "start_time": "2023-11-03T12:07:33.058Z"
   },
   {
    "duration": 0,
    "start_time": "2023-11-03T12:07:33.059Z"
   },
   {
    "duration": 0,
    "start_time": "2023-11-03T12:07:33.061Z"
   },
   {
    "duration": 10,
    "start_time": "2023-11-03T12:07:33.121Z"
   },
   {
    "duration": 0,
    "start_time": "2023-11-03T12:07:33.134Z"
   },
   {
    "duration": 0,
    "start_time": "2023-11-03T12:07:33.135Z"
   },
   {
    "duration": 0,
    "start_time": "2023-11-03T12:07:33.136Z"
   },
   {
    "duration": 0,
    "start_time": "2023-11-03T12:07:33.137Z"
   },
   {
    "duration": 0,
    "start_time": "2023-11-03T12:07:33.138Z"
   },
   {
    "duration": 0,
    "start_time": "2023-11-03T12:07:33.139Z"
   },
   {
    "duration": 0,
    "start_time": "2023-11-03T12:07:33.141Z"
   },
   {
    "duration": 0,
    "start_time": "2023-11-03T12:07:33.142Z"
   },
   {
    "duration": 0,
    "start_time": "2023-11-03T12:07:33.143Z"
   },
   {
    "duration": 0,
    "start_time": "2023-11-03T12:07:33.144Z"
   },
   {
    "duration": 0,
    "start_time": "2023-11-03T12:07:33.145Z"
   },
   {
    "duration": 0,
    "start_time": "2023-11-03T12:07:33.146Z"
   },
   {
    "duration": 0,
    "start_time": "2023-11-03T12:07:33.147Z"
   },
   {
    "duration": 0,
    "start_time": "2023-11-03T12:07:33.148Z"
   },
   {
    "duration": 0,
    "start_time": "2023-11-03T12:07:33.149Z"
   },
   {
    "duration": 0,
    "start_time": "2023-11-03T12:07:33.151Z"
   },
   {
    "duration": 0,
    "start_time": "2023-11-03T12:07:33.151Z"
   },
   {
    "duration": 0,
    "start_time": "2023-11-03T12:07:33.152Z"
   },
   {
    "duration": 0,
    "start_time": "2023-11-03T12:07:33.153Z"
   },
   {
    "duration": 0,
    "start_time": "2023-11-03T12:07:33.154Z"
   },
   {
    "duration": 0,
    "start_time": "2023-11-03T12:07:33.155Z"
   },
   {
    "duration": 7,
    "start_time": "2023-11-03T12:07:33.214Z"
   },
   {
    "duration": 0,
    "start_time": "2023-11-03T12:07:33.222Z"
   },
   {
    "duration": 0,
    "start_time": "2023-11-03T12:07:33.224Z"
   },
   {
    "duration": 0,
    "start_time": "2023-11-03T12:07:33.225Z"
   },
   {
    "duration": 0,
    "start_time": "2023-11-03T12:07:33.226Z"
   },
   {
    "duration": 0,
    "start_time": "2023-11-03T12:07:33.227Z"
   },
   {
    "duration": 0,
    "start_time": "2023-11-03T12:07:33.228Z"
   },
   {
    "duration": 0,
    "start_time": "2023-11-03T12:07:33.229Z"
   },
   {
    "duration": 0,
    "start_time": "2023-11-03T12:07:33.230Z"
   },
   {
    "duration": 0,
    "start_time": "2023-11-03T12:07:33.231Z"
   },
   {
    "duration": 0,
    "start_time": "2023-11-03T12:07:33.232Z"
   },
   {
    "duration": 0,
    "start_time": "2023-11-03T12:07:33.233Z"
   },
   {
    "duration": 0,
    "start_time": "2023-11-03T12:07:33.234Z"
   },
   {
    "duration": 0,
    "start_time": "2023-11-03T12:07:33.235Z"
   },
   {
    "duration": 0,
    "start_time": "2023-11-03T12:07:33.236Z"
   },
   {
    "duration": 53,
    "start_time": "2023-11-03T12:08:26.549Z"
   },
   {
    "duration": 0,
    "start_time": "2023-11-03T12:08:26.604Z"
   },
   {
    "duration": 0,
    "start_time": "2023-11-03T12:08:26.605Z"
   },
   {
    "duration": 0,
    "start_time": "2023-11-03T12:08:26.606Z"
   },
   {
    "duration": 0,
    "start_time": "2023-11-03T12:08:26.607Z"
   },
   {
    "duration": 0,
    "start_time": "2023-11-03T12:08:26.608Z"
   },
   {
    "duration": 0,
    "start_time": "2023-11-03T12:08:26.609Z"
   },
   {
    "duration": 0,
    "start_time": "2023-11-03T12:08:26.610Z"
   },
   {
    "duration": 0,
    "start_time": "2023-11-03T12:08:26.611Z"
   },
   {
    "duration": 0,
    "start_time": "2023-11-03T12:08:26.612Z"
   },
   {
    "duration": 0,
    "start_time": "2023-11-03T12:08:26.613Z"
   },
   {
    "duration": 0,
    "start_time": "2023-11-03T12:08:26.614Z"
   },
   {
    "duration": 0,
    "start_time": "2023-11-03T12:08:26.615Z"
   },
   {
    "duration": 0,
    "start_time": "2023-11-03T12:08:26.616Z"
   },
   {
    "duration": 8,
    "start_time": "2023-11-03T12:08:26.618Z"
   },
   {
    "duration": 0,
    "start_time": "2023-11-03T12:08:26.628Z"
   },
   {
    "duration": 0,
    "start_time": "2023-11-03T12:08:26.630Z"
   },
   {
    "duration": 0,
    "start_time": "2023-11-03T12:08:26.630Z"
   },
   {
    "duration": 0,
    "start_time": "2023-11-03T12:08:26.632Z"
   },
   {
    "duration": 7,
    "start_time": "2023-11-03T12:08:26.667Z"
   },
   {
    "duration": 0,
    "start_time": "2023-11-03T12:08:26.676Z"
   },
   {
    "duration": 0,
    "start_time": "2023-11-03T12:08:26.678Z"
   },
   {
    "duration": 0,
    "start_time": "2023-11-03T12:08:26.679Z"
   },
   {
    "duration": 0,
    "start_time": "2023-11-03T12:08:26.680Z"
   },
   {
    "duration": 0,
    "start_time": "2023-11-03T12:08:26.715Z"
   },
   {
    "duration": 0,
    "start_time": "2023-11-03T12:08:26.717Z"
   },
   {
    "duration": 0,
    "start_time": "2023-11-03T12:08:26.718Z"
   },
   {
    "duration": 0,
    "start_time": "2023-11-03T12:08:26.720Z"
   },
   {
    "duration": 0,
    "start_time": "2023-11-03T12:08:26.722Z"
   },
   {
    "duration": 0,
    "start_time": "2023-11-03T12:08:26.723Z"
   },
   {
    "duration": 0,
    "start_time": "2023-11-03T12:08:26.724Z"
   },
   {
    "duration": 0,
    "start_time": "2023-11-03T12:08:26.726Z"
   },
   {
    "duration": 0,
    "start_time": "2023-11-03T12:08:26.727Z"
   },
   {
    "duration": 0,
    "start_time": "2023-11-03T12:08:26.728Z"
   },
   {
    "duration": 0,
    "start_time": "2023-11-03T12:08:26.730Z"
   },
   {
    "duration": 9,
    "start_time": "2023-11-03T12:08:26.734Z"
   },
   {
    "duration": 0,
    "start_time": "2023-11-03T12:08:26.745Z"
   },
   {
    "duration": 0,
    "start_time": "2023-11-03T12:08:26.746Z"
   },
   {
    "duration": 0,
    "start_time": "2023-11-03T12:08:26.748Z"
   },
   {
    "duration": 0,
    "start_time": "2023-11-03T12:08:26.749Z"
   },
   {
    "duration": 0,
    "start_time": "2023-11-03T12:08:26.751Z"
   },
   {
    "duration": 0,
    "start_time": "2023-11-03T12:08:26.752Z"
   },
   {
    "duration": 0,
    "start_time": "2023-11-03T12:08:26.753Z"
   },
   {
    "duration": 0,
    "start_time": "2023-11-03T12:08:26.755Z"
   },
   {
    "duration": 0,
    "start_time": "2023-11-03T12:08:26.814Z"
   },
   {
    "duration": 0,
    "start_time": "2023-11-03T12:08:26.816Z"
   },
   {
    "duration": 0,
    "start_time": "2023-11-03T12:08:26.818Z"
   },
   {
    "duration": 0,
    "start_time": "2023-11-03T12:08:26.819Z"
   },
   {
    "duration": 0,
    "start_time": "2023-11-03T12:08:26.821Z"
   },
   {
    "duration": 0,
    "start_time": "2023-11-03T12:08:26.822Z"
   },
   {
    "duration": 0,
    "start_time": "2023-11-03T12:08:26.823Z"
   },
   {
    "duration": 0,
    "start_time": "2023-11-03T12:08:26.824Z"
   },
   {
    "duration": 10,
    "start_time": "2023-11-03T12:08:26.829Z"
   },
   {
    "duration": 0,
    "start_time": "2023-11-03T12:08:26.841Z"
   },
   {
    "duration": 0,
    "start_time": "2023-11-03T12:08:26.843Z"
   },
   {
    "duration": 0,
    "start_time": "2023-11-03T12:08:26.844Z"
   },
   {
    "duration": 3532,
    "start_time": "2023-11-03T12:09:51.973Z"
   },
   {
    "duration": 3,
    "start_time": "2023-11-03T12:10:05.668Z"
   },
   {
    "duration": 3,
    "start_time": "2023-11-03T12:10:12.144Z"
   },
   {
    "duration": 2209,
    "start_time": "2023-11-03T12:10:12.149Z"
   },
   {
    "duration": 0,
    "start_time": "2023-11-03T12:10:14.362Z"
   },
   {
    "duration": 0,
    "start_time": "2023-11-03T12:10:14.364Z"
   },
   {
    "duration": 0,
    "start_time": "2023-11-03T12:10:14.365Z"
   },
   {
    "duration": 0,
    "start_time": "2023-11-03T12:10:14.366Z"
   },
   {
    "duration": 0,
    "start_time": "2023-11-03T12:10:14.368Z"
   },
   {
    "duration": 0,
    "start_time": "2023-11-03T12:10:14.369Z"
   },
   {
    "duration": 0,
    "start_time": "2023-11-03T12:10:14.370Z"
   },
   {
    "duration": 0,
    "start_time": "2023-11-03T12:10:14.371Z"
   },
   {
    "duration": 0,
    "start_time": "2023-11-03T12:10:14.372Z"
   },
   {
    "duration": 0,
    "start_time": "2023-11-03T12:10:14.373Z"
   },
   {
    "duration": 0,
    "start_time": "2023-11-03T12:10:14.375Z"
   },
   {
    "duration": 0,
    "start_time": "2023-11-03T12:10:14.376Z"
   },
   {
    "duration": 0,
    "start_time": "2023-11-03T12:10:14.376Z"
   },
   {
    "duration": 0,
    "start_time": "2023-11-03T12:10:14.378Z"
   },
   {
    "duration": 0,
    "start_time": "2023-11-03T12:10:14.379Z"
   },
   {
    "duration": 0,
    "start_time": "2023-11-03T12:10:14.380Z"
   },
   {
    "duration": 0,
    "start_time": "2023-11-03T12:10:14.415Z"
   },
   {
    "duration": 0,
    "start_time": "2023-11-03T12:10:14.416Z"
   },
   {
    "duration": 0,
    "start_time": "2023-11-03T12:10:14.417Z"
   },
   {
    "duration": 0,
    "start_time": "2023-11-03T12:10:14.418Z"
   },
   {
    "duration": 0,
    "start_time": "2023-11-03T12:10:14.419Z"
   },
   {
    "duration": 0,
    "start_time": "2023-11-03T12:10:14.421Z"
   },
   {
    "duration": 0,
    "start_time": "2023-11-03T12:10:14.422Z"
   },
   {
    "duration": 0,
    "start_time": "2023-11-03T12:10:14.423Z"
   },
   {
    "duration": 0,
    "start_time": "2023-11-03T12:10:14.424Z"
   },
   {
    "duration": 0,
    "start_time": "2023-11-03T12:10:14.425Z"
   },
   {
    "duration": 0,
    "start_time": "2023-11-03T12:10:14.426Z"
   },
   {
    "duration": 0,
    "start_time": "2023-11-03T12:10:14.427Z"
   },
   {
    "duration": 0,
    "start_time": "2023-11-03T12:10:14.429Z"
   },
   {
    "duration": 0,
    "start_time": "2023-11-03T12:10:14.430Z"
   },
   {
    "duration": 0,
    "start_time": "2023-11-03T12:10:14.431Z"
   },
   {
    "duration": 0,
    "start_time": "2023-11-03T12:10:14.433Z"
   },
   {
    "duration": 0,
    "start_time": "2023-11-03T12:10:14.433Z"
   },
   {
    "duration": 0,
    "start_time": "2023-11-03T12:10:14.435Z"
   },
   {
    "duration": 0,
    "start_time": "2023-11-03T12:10:14.436Z"
   },
   {
    "duration": 0,
    "start_time": "2023-11-03T12:10:14.437Z"
   },
   {
    "duration": 0,
    "start_time": "2023-11-03T12:10:14.438Z"
   },
   {
    "duration": 0,
    "start_time": "2023-11-03T12:10:14.439Z"
   },
   {
    "duration": 0,
    "start_time": "2023-11-03T12:10:14.440Z"
   },
   {
    "duration": 0,
    "start_time": "2023-11-03T12:10:14.441Z"
   },
   {
    "duration": 0,
    "start_time": "2023-11-03T12:10:14.442Z"
   },
   {
    "duration": 0,
    "start_time": "2023-11-03T12:10:14.444Z"
   },
   {
    "duration": 0,
    "start_time": "2023-11-03T12:10:14.445Z"
   },
   {
    "duration": 0,
    "start_time": "2023-11-03T12:10:14.446Z"
   },
   {
    "duration": 0,
    "start_time": "2023-11-03T12:10:14.447Z"
   },
   {
    "duration": 0,
    "start_time": "2023-11-03T12:10:14.448Z"
   },
   {
    "duration": 0,
    "start_time": "2023-11-03T12:10:14.449Z"
   },
   {
    "duration": 0,
    "start_time": "2023-11-03T12:10:14.450Z"
   },
   {
    "duration": 0,
    "start_time": "2023-11-03T12:10:14.515Z"
   },
   {
    "duration": 0,
    "start_time": "2023-11-03T12:10:14.516Z"
   },
   {
    "duration": 0,
    "start_time": "2023-11-03T12:10:14.517Z"
   },
   {
    "duration": 0,
    "start_time": "2023-11-03T12:10:14.518Z"
   },
   {
    "duration": 0,
    "start_time": "2023-11-03T12:10:14.519Z"
   },
   {
    "duration": 0,
    "start_time": "2023-11-03T12:10:14.520Z"
   },
   {
    "duration": 0,
    "start_time": "2023-11-03T12:10:14.521Z"
   },
   {
    "duration": 4220,
    "start_time": "2023-11-03T12:10:38.940Z"
   },
   {
    "duration": 3,
    "start_time": "2023-11-03T12:10:53.138Z"
   },
   {
    "duration": 3488,
    "start_time": "2023-11-03T12:10:55.764Z"
   },
   {
    "duration": 4,
    "start_time": "2023-11-03T12:11:11.270Z"
   },
   {
    "duration": 2719,
    "start_time": "2023-11-03T12:11:11.276Z"
   },
   {
    "duration": 19,
    "start_time": "2023-11-03T12:11:13.998Z"
   },
   {
    "duration": 11,
    "start_time": "2023-11-03T12:11:14.019Z"
   },
   {
    "duration": 43,
    "start_time": "2023-11-03T12:11:14.032Z"
   },
   {
    "duration": 23,
    "start_time": "2023-11-03T12:11:14.076Z"
   },
   {
    "duration": 750,
    "start_time": "2023-11-03T12:11:14.101Z"
   },
   {
    "duration": 218,
    "start_time": "2023-11-03T12:11:14.853Z"
   },
   {
    "duration": 194,
    "start_time": "2023-11-03T12:11:15.073Z"
   },
   {
    "duration": 188,
    "start_time": "2023-11-03T12:11:15.269Z"
   },
   {
    "duration": 217,
    "start_time": "2023-11-03T12:11:15.460Z"
   },
   {
    "duration": 7,
    "start_time": "2023-11-03T12:11:15.679Z"
   },
   {
    "duration": 27,
    "start_time": "2023-11-03T12:11:15.688Z"
   },
   {
    "duration": 37,
    "start_time": "2023-11-03T12:11:15.717Z"
   },
   {
    "duration": 25,
    "start_time": "2023-11-03T12:11:15.756Z"
   },
   {
    "duration": 205,
    "start_time": "2023-11-03T12:11:15.783Z"
   },
   {
    "duration": 27,
    "start_time": "2023-11-03T12:11:15.989Z"
   },
   {
    "duration": 252,
    "start_time": "2023-11-03T12:11:16.017Z"
   },
   {
    "duration": 29,
    "start_time": "2023-11-03T12:11:16.271Z"
   },
   {
    "duration": 17,
    "start_time": "2023-11-03T12:11:16.302Z"
   },
   {
    "duration": 5441,
    "start_time": "2023-11-03T12:11:16.320Z"
   },
   {
    "duration": 397,
    "start_time": "2023-11-03T12:11:21.763Z"
   },
   {
    "duration": 679,
    "start_time": "2023-11-03T12:11:22.161Z"
   },
   {
    "duration": 603,
    "start_time": "2023-11-03T12:11:22.842Z"
   },
   {
    "duration": 305,
    "start_time": "2023-11-03T12:11:23.447Z"
   },
   {
    "duration": 871,
    "start_time": "2023-11-03T12:11:23.754Z"
   },
   {
    "duration": 5,
    "start_time": "2023-11-03T12:11:24.627Z"
   },
   {
    "duration": 10,
    "start_time": "2023-11-03T12:11:24.634Z"
   },
   {
    "duration": 3,
    "start_time": "2023-11-03T12:11:24.649Z"
   },
   {
    "duration": 5,
    "start_time": "2023-11-03T12:11:24.654Z"
   },
   {
    "duration": 11,
    "start_time": "2023-11-03T12:11:24.660Z"
   },
   {
    "duration": 8,
    "start_time": "2023-11-03T12:11:24.673Z"
   },
   {
    "duration": 33,
    "start_time": "2023-11-03T12:11:24.683Z"
   },
   {
    "duration": 7,
    "start_time": "2023-11-03T12:11:24.718Z"
   },
   {
    "duration": 22,
    "start_time": "2023-11-03T12:11:24.726Z"
   },
   {
    "duration": 28525,
    "start_time": "2023-11-03T12:11:24.749Z"
   },
   {
    "duration": 4,
    "start_time": "2023-11-03T12:11:53.276Z"
   },
   {
    "duration": 34,
    "start_time": "2023-11-03T12:11:53.281Z"
   },
   {
    "duration": 24,
    "start_time": "2023-11-03T12:11:53.316Z"
   },
   {
    "duration": 13,
    "start_time": "2023-11-03T12:11:53.342Z"
   },
   {
    "duration": 23,
    "start_time": "2023-11-03T12:11:53.357Z"
   },
   {
    "duration": 37976,
    "start_time": "2023-11-03T12:11:53.382Z"
   },
   {
    "duration": 3,
    "start_time": "2023-11-03T12:12:31.360Z"
   },
   {
    "duration": 134,
    "start_time": "2023-11-03T12:12:31.365Z"
   },
   {
    "duration": 121,
    "start_time": "2023-11-03T12:12:31.501Z"
   },
   {
    "duration": 170497,
    "start_time": "2023-11-03T12:12:31.624Z"
   },
   {
    "duration": 3,
    "start_time": "2023-11-03T12:15:22.123Z"
   },
   {
    "duration": 17,
    "start_time": "2023-11-03T12:15:22.128Z"
   },
   {
    "duration": 17,
    "start_time": "2023-11-03T12:15:22.146Z"
   },
   {
    "duration": 20,
    "start_time": "2023-11-03T12:15:22.165Z"
   },
   {
    "duration": 15,
    "start_time": "2023-11-03T12:15:22.186Z"
   },
   {
    "duration": 211,
    "start_time": "2023-11-03T12:15:22.202Z"
   },
   {
    "duration": 580,
    "start_time": "2023-11-03T12:15:22.415Z"
   },
   {
    "duration": 34,
    "start_time": "2023-11-03T12:15:22.996Z"
   },
   {
    "duration": 10,
    "start_time": "2023-11-03T12:15:23.031Z"
   },
   {
    "duration": 619,
    "start_time": "2023-11-03T12:15:23.043Z"
   },
   {
    "duration": 11889,
    "start_time": "2023-11-03T12:15:23.664Z"
   },
   {
    "duration": 2641,
    "start_time": "2023-11-03T12:24:02.600Z"
   },
   {
    "duration": 15,
    "start_time": "2023-11-03T12:24:05.243Z"
   },
   {
    "duration": 31,
    "start_time": "2023-11-03T12:24:05.260Z"
   },
   {
    "duration": 24,
    "start_time": "2023-11-03T12:24:05.294Z"
   },
   {
    "duration": 36,
    "start_time": "2023-11-03T12:24:05.319Z"
   },
   {
    "duration": 495,
    "start_time": "2023-11-03T12:24:05.357Z"
   },
   {
    "duration": 369,
    "start_time": "2023-11-03T12:24:05.854Z"
   },
   {
    "duration": 243,
    "start_time": "2023-11-03T12:24:06.225Z"
   },
   {
    "duration": 198,
    "start_time": "2023-11-03T12:24:06.470Z"
   },
   {
    "duration": 226,
    "start_time": "2023-11-03T12:24:06.672Z"
   },
   {
    "duration": 8,
    "start_time": "2023-11-03T12:24:06.900Z"
   },
   {
    "duration": 26,
    "start_time": "2023-11-03T12:24:06.909Z"
   },
   {
    "duration": 24,
    "start_time": "2023-11-03T12:24:06.937Z"
   },
   {
    "duration": 5,
    "start_time": "2023-11-03T12:24:06.962Z"
   },
   {
    "duration": 200,
    "start_time": "2023-11-03T12:24:06.969Z"
   },
   {
    "duration": 25,
    "start_time": "2023-11-03T12:24:07.171Z"
   },
   {
    "duration": 312,
    "start_time": "2023-11-03T12:24:07.198Z"
   },
   {
    "duration": 38,
    "start_time": "2023-11-03T12:24:07.513Z"
   },
   {
    "duration": 32,
    "start_time": "2023-11-03T12:24:07.553Z"
   },
   {
    "duration": 5302,
    "start_time": "2023-11-03T12:24:07.587Z"
   },
   {
    "duration": 433,
    "start_time": "2023-11-03T12:24:12.891Z"
   },
   {
    "duration": 640,
    "start_time": "2023-11-03T12:24:13.326Z"
   },
   {
    "duration": 502,
    "start_time": "2023-11-03T12:24:13.968Z"
   },
   {
    "duration": 281,
    "start_time": "2023-11-03T12:24:14.472Z"
   },
   {
    "duration": 928,
    "start_time": "2023-11-03T12:24:14.755Z"
   },
   {
    "duration": 6,
    "start_time": "2023-11-03T12:24:15.685Z"
   },
   {
    "duration": 24,
    "start_time": "2023-11-03T12:24:15.692Z"
   },
   {
    "duration": 3,
    "start_time": "2023-11-03T12:24:15.721Z"
   },
   {
    "duration": 8,
    "start_time": "2023-11-03T12:24:15.726Z"
   },
   {
    "duration": 9,
    "start_time": "2023-11-03T12:24:15.736Z"
   },
   {
    "duration": 14,
    "start_time": "2023-11-03T12:24:15.746Z"
   },
   {
    "duration": 19,
    "start_time": "2023-11-03T12:24:15.762Z"
   },
   {
    "duration": 13,
    "start_time": "2023-11-03T12:24:15.783Z"
   },
   {
    "duration": 24,
    "start_time": "2023-11-03T12:24:15.798Z"
   },
   {
    "duration": 68,
    "start_time": "2023-11-03T12:24:15.824Z"
   },
   {
    "duration": 4,
    "start_time": "2023-11-03T12:24:15.894Z"
   },
   {
    "duration": 7,
    "start_time": "2023-11-03T12:24:15.900Z"
   },
   {
    "duration": 7,
    "start_time": "2023-11-03T12:24:15.909Z"
   },
   {
    "duration": 15,
    "start_time": "2023-11-03T12:24:15.918Z"
   },
   {
    "duration": 17,
    "start_time": "2023-11-03T12:24:15.935Z"
   },
   {
    "duration": 120,
    "start_time": "2023-11-03T12:24:15.953Z"
   },
   {
    "duration": 4,
    "start_time": "2023-11-03T12:24:16.075Z"
   },
   {
    "duration": 22,
    "start_time": "2023-11-03T12:24:16.080Z"
   },
   {
    "duration": 39,
    "start_time": "2023-11-03T12:24:16.104Z"
   },
   {
    "duration": 87,
    "start_time": "2023-11-03T12:24:16.145Z"
   },
   {
    "duration": 4,
    "start_time": "2023-11-03T12:24:16.234Z"
   },
   {
    "duration": 12,
    "start_time": "2023-11-03T12:24:16.240Z"
   },
   {
    "duration": 23,
    "start_time": "2023-11-03T12:24:16.254Z"
   },
   {
    "duration": 19,
    "start_time": "2023-11-03T12:24:16.279Z"
   },
   {
    "duration": 14,
    "start_time": "2023-11-03T12:24:16.300Z"
   },
   {
    "duration": 221,
    "start_time": "2023-11-03T12:24:16.316Z"
   },
   {
    "duration": 538,
    "start_time": "2023-11-03T12:24:16.539Z"
   },
   {
    "duration": 39,
    "start_time": "2023-11-03T12:24:17.078Z"
   },
   {
    "duration": 3,
    "start_time": "2023-11-03T12:24:17.118Z"
   },
   {
    "duration": 575,
    "start_time": "2023-11-03T12:24:17.122Z"
   },
   {
    "duration": 11782,
    "start_time": "2023-11-03T12:24:17.699Z"
   },
   {
    "duration": 2652,
    "start_time": "2023-11-03T12:25:42.376Z"
   },
   {
    "duration": 16,
    "start_time": "2023-11-03T12:25:45.030Z"
   },
   {
    "duration": 25,
    "start_time": "2023-11-03T12:25:45.048Z"
   },
   {
    "duration": 27,
    "start_time": "2023-11-03T12:25:45.075Z"
   },
   {
    "duration": 21,
    "start_time": "2023-11-03T12:25:45.104Z"
   },
   {
    "duration": 602,
    "start_time": "2023-11-03T12:25:45.127Z"
   },
   {
    "duration": 278,
    "start_time": "2023-11-03T12:25:45.731Z"
   },
   {
    "duration": 273,
    "start_time": "2023-11-03T12:25:46.010Z"
   },
   {
    "duration": 170,
    "start_time": "2023-11-03T12:25:46.285Z"
   },
   {
    "duration": 211,
    "start_time": "2023-11-03T12:25:46.457Z"
   },
   {
    "duration": 7,
    "start_time": "2023-11-03T12:25:46.670Z"
   },
   {
    "duration": 14,
    "start_time": "2023-11-03T12:25:46.678Z"
   },
   {
    "duration": 13,
    "start_time": "2023-11-03T12:25:46.693Z"
   },
   {
    "duration": 10,
    "start_time": "2023-11-03T12:25:46.708Z"
   },
   {
    "duration": 212,
    "start_time": "2023-11-03T12:25:46.719Z"
   },
   {
    "duration": 27,
    "start_time": "2023-11-03T12:25:46.933Z"
   },
   {
    "duration": 345,
    "start_time": "2023-11-03T12:25:46.962Z"
   },
   {
    "duration": 29,
    "start_time": "2023-11-03T12:25:47.309Z"
   },
   {
    "duration": 3,
    "start_time": "2023-11-03T12:25:47.339Z"
   },
   {
    "duration": 5302,
    "start_time": "2023-11-03T12:25:47.343Z"
   },
   {
    "duration": 373,
    "start_time": "2023-11-03T12:25:52.648Z"
   },
   {
    "duration": 609,
    "start_time": "2023-11-03T12:25:53.023Z"
   },
   {
    "duration": 528,
    "start_time": "2023-11-03T12:25:53.634Z"
   },
   {
    "duration": 289,
    "start_time": "2023-11-03T12:25:54.163Z"
   },
   {
    "duration": 849,
    "start_time": "2023-11-03T12:25:54.453Z"
   },
   {
    "duration": 4,
    "start_time": "2023-11-03T12:25:55.304Z"
   },
   {
    "duration": 54,
    "start_time": "2023-11-03T12:25:55.314Z"
   },
   {
    "duration": 22,
    "start_time": "2023-11-03T12:25:55.372Z"
   },
   {
    "duration": 33,
    "start_time": "2023-11-03T12:25:55.395Z"
   },
   {
    "duration": 32,
    "start_time": "2023-11-03T12:25:55.430Z"
   },
   {
    "duration": 43,
    "start_time": "2023-11-03T12:25:55.464Z"
   },
   {
    "duration": 49,
    "start_time": "2023-11-03T12:25:55.509Z"
   },
   {
    "duration": 46,
    "start_time": "2023-11-03T12:25:55.560Z"
   },
   {
    "duration": 76,
    "start_time": "2023-11-03T12:25:55.607Z"
   },
   {
    "duration": 26259,
    "start_time": "2023-11-03T12:25:55.685Z"
   },
   {
    "duration": 3,
    "start_time": "2023-11-03T12:26:21.946Z"
   },
   {
    "duration": 11,
    "start_time": "2023-11-03T12:26:21.951Z"
   },
   {
    "duration": 13,
    "start_time": "2023-11-03T12:26:21.964Z"
   },
   {
    "duration": 8,
    "start_time": "2023-11-03T12:26:21.978Z"
   },
   {
    "duration": 19,
    "start_time": "2023-11-03T12:26:21.988Z"
   },
   {
    "duration": 36397,
    "start_time": "2023-11-03T12:26:22.009Z"
   },
   {
    "duration": 4,
    "start_time": "2023-11-03T12:26:58.408Z"
   },
   {
    "duration": 6,
    "start_time": "2023-11-03T12:26:58.414Z"
   },
   {
    "duration": 43,
    "start_time": "2023-11-03T12:26:58.423Z"
   },
   {
    "duration": 168251,
    "start_time": "2023-11-03T12:26:58.468Z"
   },
   {
    "duration": 3,
    "start_time": "2023-11-03T12:29:46.721Z"
   },
   {
    "duration": 29,
    "start_time": "2023-11-03T12:29:46.726Z"
   },
   {
    "duration": 29,
    "start_time": "2023-11-03T12:29:46.756Z"
   },
   {
    "duration": 36,
    "start_time": "2023-11-03T12:29:46.787Z"
   },
   {
    "duration": 25,
    "start_time": "2023-11-03T12:29:46.825Z"
   },
   {
    "duration": 211,
    "start_time": "2023-11-03T12:29:46.852Z"
   },
   {
    "duration": 599,
    "start_time": "2023-11-03T12:29:47.065Z"
   },
   {
    "duration": 28,
    "start_time": "2023-11-03T12:29:47.665Z"
   },
   {
    "duration": 17,
    "start_time": "2023-11-03T12:29:47.694Z"
   },
   {
    "duration": 620,
    "start_time": "2023-11-03T12:29:47.713Z"
   },
   {
    "duration": 11861,
    "start_time": "2023-11-03T12:29:48.336Z"
   },
   {
    "duration": 102,
    "start_time": "2023-11-04T11:08:48.775Z"
   },
   {
    "duration": 2558,
    "start_time": "2023-11-05T22:34:03.078Z"
   },
   {
    "duration": 16,
    "start_time": "2023-11-05T22:34:05.638Z"
   },
   {
    "duration": 47,
    "start_time": "2023-11-05T22:34:05.655Z"
   },
   {
    "duration": 40,
    "start_time": "2023-11-05T22:34:05.704Z"
   },
   {
    "duration": 24,
    "start_time": "2023-11-05T22:34:05.746Z"
   },
   {
    "duration": 14,
    "start_time": "2023-11-05T22:34:05.772Z"
   },
   {
    "duration": 6,
    "start_time": "2023-11-05T22:34:05.787Z"
   },
   {
    "duration": 505,
    "start_time": "2023-11-05T22:34:05.794Z"
   },
   {
    "duration": 189,
    "start_time": "2023-11-05T22:34:06.300Z"
   },
   {
    "duration": 201,
    "start_time": "2023-11-05T22:34:06.491Z"
   },
   {
    "duration": 175,
    "start_time": "2023-11-05T22:34:06.694Z"
   },
   {
    "duration": 201,
    "start_time": "2023-11-05T22:34:06.870Z"
   },
   {
    "duration": 6,
    "start_time": "2023-11-05T22:34:07.073Z"
   },
   {
    "duration": 16,
    "start_time": "2023-11-05T22:34:07.081Z"
   },
   {
    "duration": 3,
    "start_time": "2023-11-05T22:34:07.099Z"
   },
   {
    "duration": 4,
    "start_time": "2023-11-05T22:34:07.104Z"
   },
   {
    "duration": 8,
    "start_time": "2023-11-05T22:34:07.109Z"
   },
   {
    "duration": 12,
    "start_time": "2023-11-05T22:34:07.118Z"
   },
   {
    "duration": 4,
    "start_time": "2023-11-05T22:34:07.132Z"
   },
   {
    "duration": 174,
    "start_time": "2023-11-05T22:34:07.138Z"
   },
   {
    "duration": 24,
    "start_time": "2023-11-05T22:34:07.314Z"
   },
   {
    "duration": 254,
    "start_time": "2023-11-05T22:34:07.340Z"
   },
   {
    "duration": 25,
    "start_time": "2023-11-05T22:34:07.596Z"
   },
   {
    "duration": 2,
    "start_time": "2023-11-05T22:34:07.623Z"
   },
   {
    "duration": 5310,
    "start_time": "2023-11-05T22:34:07.627Z"
   },
   {
    "duration": 341,
    "start_time": "2023-11-05T22:34:12.939Z"
   },
   {
    "duration": 612,
    "start_time": "2023-11-05T22:34:13.282Z"
   },
   {
    "duration": 530,
    "start_time": "2023-11-05T22:34:13.900Z"
   },
   {
    "duration": 352,
    "start_time": "2023-11-05T22:34:14.432Z"
   },
   {
    "duration": 342,
    "start_time": "2023-11-05T22:34:14.786Z"
   },
   {
    "duration": 381,
    "start_time": "2023-11-05T22:34:15.130Z"
   },
   {
    "duration": 177,
    "start_time": "2023-11-05T22:34:15.512Z"
   },
   {
    "duration": 167,
    "start_time": "2023-11-05T22:34:15.691Z"
   },
   {
    "duration": 5,
    "start_time": "2023-11-05T22:34:15.859Z"
   },
   {
    "duration": 29,
    "start_time": "2023-11-05T22:34:15.865Z"
   },
   {
    "duration": 5,
    "start_time": "2023-11-05T22:34:15.895Z"
   },
   {
    "duration": 40,
    "start_time": "2023-11-05T22:34:15.901Z"
   },
   {
    "duration": 25,
    "start_time": "2023-11-05T22:34:15.942Z"
   },
   {
    "duration": 32,
    "start_time": "2023-11-05T22:34:15.968Z"
   },
   {
    "duration": 29,
    "start_time": "2023-11-05T22:34:16.001Z"
   },
   {
    "duration": 24,
    "start_time": "2023-11-05T22:34:16.032Z"
   },
   {
    "duration": 38,
    "start_time": "2023-11-05T22:34:16.057Z"
   },
   {
    "duration": 40920,
    "start_time": "2023-11-05T22:34:16.096Z"
   },
   {
    "duration": 4,
    "start_time": "2023-11-05T22:34:57.017Z"
   },
   {
    "duration": 16,
    "start_time": "2023-11-05T22:34:57.022Z"
   },
   {
    "duration": 8,
    "start_time": "2023-11-05T22:34:57.039Z"
   },
   {
    "duration": 5,
    "start_time": "2023-11-05T22:34:57.048Z"
   },
   {
    "duration": 14,
    "start_time": "2023-11-05T22:34:57.054Z"
   },
   {
    "duration": 30393,
    "start_time": "2023-11-05T22:34:57.070Z"
   },
   {
    "duration": 4,
    "start_time": "2023-11-05T22:35:27.465Z"
   },
   {
    "duration": 11,
    "start_time": "2023-11-05T22:35:27.471Z"
   },
   {
    "duration": 25,
    "start_time": "2023-11-05T22:35:27.484Z"
   },
   {
    "duration": 143930,
    "start_time": "2023-11-05T22:35:27.511Z"
   },
   {
    "duration": 3,
    "start_time": "2023-11-05T22:37:51.443Z"
   },
   {
    "duration": 18,
    "start_time": "2023-11-05T22:37:51.448Z"
   },
   {
    "duration": 5,
    "start_time": "2023-11-05T22:37:51.468Z"
   },
   {
    "duration": 12,
    "start_time": "2023-11-05T22:37:51.474Z"
   },
   {
    "duration": 15,
    "start_time": "2023-11-05T22:37:51.487Z"
   },
   {
    "duration": 19,
    "start_time": "2023-11-05T22:37:51.504Z"
   },
   {
    "duration": 185,
    "start_time": "2023-11-05T22:37:51.525Z"
   },
   {
    "duration": 545,
    "start_time": "2023-11-05T22:37:51.712Z"
   },
   {
    "duration": 24,
    "start_time": "2023-11-05T22:37:52.259Z"
   },
   {
    "duration": 2,
    "start_time": "2023-11-05T22:37:52.285Z"
   },
   {
    "duration": 517,
    "start_time": "2023-11-05T22:37:52.289Z"
   },
   {
    "duration": 11107,
    "start_time": "2023-11-05T22:37:52.807Z"
   },
   {
    "duration": 2344,
    "start_time": "2023-11-05T22:48:48.394Z"
   },
   {
    "duration": 15,
    "start_time": "2023-11-05T22:48:50.740Z"
   },
   {
    "duration": 10,
    "start_time": "2023-11-05T22:48:50.757Z"
   },
   {
    "duration": 5,
    "start_time": "2023-11-05T22:48:50.769Z"
   },
   {
    "duration": 6,
    "start_time": "2023-11-05T22:48:50.775Z"
   },
   {
    "duration": 7,
    "start_time": "2023-11-05T22:48:50.782Z"
   },
   {
    "duration": 24,
    "start_time": "2023-11-05T22:48:50.790Z"
   },
   {
    "duration": 378,
    "start_time": "2023-11-05T22:48:50.816Z"
   },
   {
    "duration": 159,
    "start_time": "2023-11-05T22:48:51.196Z"
   },
   {
    "duration": 146,
    "start_time": "2023-11-05T22:48:51.358Z"
   },
   {
    "duration": 142,
    "start_time": "2023-11-05T22:48:51.505Z"
   },
   {
    "duration": 133,
    "start_time": "2023-11-05T22:48:51.648Z"
   },
   {
    "duration": 6,
    "start_time": "2023-11-05T22:48:51.782Z"
   },
   {
    "duration": 15,
    "start_time": "2023-11-05T22:48:51.789Z"
   },
   {
    "duration": 3,
    "start_time": "2023-11-05T22:48:51.805Z"
   },
   {
    "duration": 9,
    "start_time": "2023-11-05T22:48:51.809Z"
   },
   {
    "duration": 8,
    "start_time": "2023-11-05T22:48:51.819Z"
   },
   {
    "duration": 14,
    "start_time": "2023-11-05T22:48:51.828Z"
   },
   {
    "duration": 14,
    "start_time": "2023-11-05T22:48:51.844Z"
   },
   {
    "duration": 147,
    "start_time": "2023-11-05T22:48:51.859Z"
   },
   {
    "duration": 21,
    "start_time": "2023-11-05T22:48:52.008Z"
   },
   {
    "duration": 187,
    "start_time": "2023-11-05T22:48:52.030Z"
   },
   {
    "duration": 24,
    "start_time": "2023-11-05T22:48:52.219Z"
   },
   {
    "duration": 2,
    "start_time": "2023-11-05T22:48:52.245Z"
   },
   {
    "duration": 4636,
    "start_time": "2023-11-05T22:48:52.249Z"
   },
   {
    "duration": 344,
    "start_time": "2023-11-05T22:48:56.887Z"
   },
   {
    "duration": 567,
    "start_time": "2023-11-05T22:48:57.233Z"
   },
   {
    "duration": 527,
    "start_time": "2023-11-05T22:48:57.804Z"
   },
   {
    "duration": 345,
    "start_time": "2023-11-05T22:48:58.333Z"
   },
   {
    "duration": 262,
    "start_time": "2023-11-05T22:48:58.679Z"
   },
   {
    "duration": 395,
    "start_time": "2023-11-05T22:48:58.942Z"
   },
   {
    "duration": 167,
    "start_time": "2023-11-05T22:48:59.339Z"
   },
   {
    "duration": 166,
    "start_time": "2023-11-05T22:48:59.507Z"
   },
   {
    "duration": 4,
    "start_time": "2023-11-05T22:48:59.674Z"
   },
   {
    "duration": 9,
    "start_time": "2023-11-05T22:48:59.679Z"
   },
   {
    "duration": 3,
    "start_time": "2023-11-05T22:48:59.689Z"
   },
   {
    "duration": 21,
    "start_time": "2023-11-05T22:48:59.693Z"
   },
   {
    "duration": 11,
    "start_time": "2023-11-05T22:48:59.716Z"
   },
   {
    "duration": 5,
    "start_time": "2023-11-05T22:48:59.729Z"
   },
   {
    "duration": 3,
    "start_time": "2023-11-05T22:48:59.735Z"
   },
   {
    "duration": 7,
    "start_time": "2023-11-05T22:48:59.740Z"
   },
   {
    "duration": 14,
    "start_time": "2023-11-05T22:48:59.749Z"
   },
   {
    "duration": 41450,
    "start_time": "2023-11-05T22:48:59.765Z"
   },
   {
    "duration": 4,
    "start_time": "2023-11-05T22:49:41.217Z"
   },
   {
    "duration": 5,
    "start_time": "2023-11-05T22:49:41.222Z"
   },
   {
    "duration": 5,
    "start_time": "2023-11-05T22:49:41.228Z"
   },
   {
    "duration": 6,
    "start_time": "2023-11-05T22:49:41.234Z"
   },
   {
    "duration": 12,
    "start_time": "2023-11-05T22:49:41.242Z"
   },
   {
    "duration": 32115,
    "start_time": "2023-11-05T22:49:41.255Z"
   },
   {
    "duration": 4,
    "start_time": "2023-11-05T22:50:13.372Z"
   },
   {
    "duration": 6,
    "start_time": "2023-11-05T22:50:13.377Z"
   },
   {
    "duration": 20,
    "start_time": "2023-11-05T22:50:13.384Z"
   },
   {
    "duration": 157586,
    "start_time": "2023-11-05T22:50:13.406Z"
   },
   {
    "duration": 3,
    "start_time": "2023-11-05T22:52:50.994Z"
   },
   {
    "duration": 5,
    "start_time": "2023-11-05T22:52:50.998Z"
   },
   {
    "duration": 10,
    "start_time": "2023-11-05T22:52:51.004Z"
   },
   {
    "duration": 18,
    "start_time": "2023-11-05T22:52:51.015Z"
   },
   {
    "duration": 12,
    "start_time": "2023-11-05T22:52:51.035Z"
   },
   {
    "duration": 16,
    "start_time": "2023-11-05T22:52:51.048Z"
   },
   {
    "duration": 198,
    "start_time": "2023-11-05T22:52:51.065Z"
   },
   {
    "duration": 574,
    "start_time": "2023-11-05T22:52:51.264Z"
   },
   {
    "duration": 25,
    "start_time": "2023-11-05T22:52:51.839Z"
   },
   {
    "duration": 3,
    "start_time": "2023-11-05T22:52:51.865Z"
   },
   {
    "duration": 587,
    "start_time": "2023-11-05T22:52:51.870Z"
   },
   {
    "duration": 11233,
    "start_time": "2023-11-05T22:52:52.459Z"
   }
  ],
  "kernelspec": {
   "display_name": "Python 3 (ipykernel)",
   "language": "python",
   "name": "python3"
  },
  "language_info": {
   "codemirror_mode": {
    "name": "ipython",
    "version": 3
   },
   "file_extension": ".py",
   "mimetype": "text/x-python",
   "name": "python",
   "nbconvert_exporter": "python",
   "pygments_lexer": "ipython3",
   "version": "3.10.12"
  },
  "toc": {
   "base_numbering": 1,
   "nav_menu": {},
   "number_sections": true,
   "sideBar": true,
   "skip_h1_title": true,
   "title_cell": "Содержание.",
   "title_sidebar": "Contents",
   "toc_cell": true,
   "toc_position": {
    "height": "calc(100% - 180px)",
    "left": "10px",
    "top": "150px",
    "width": "377.719px"
   },
   "toc_section_display": true,
   "toc_window_display": true
  },
  "varInspector": {
   "cols": {
    "lenName": 16,
    "lenType": 16,
    "lenVar": 40
   },
   "kernels_config": {
    "python": {
     "delete_cmd_postfix": "",
     "delete_cmd_prefix": "del ",
     "library": "var_list.py",
     "varRefreshCmd": "print(var_dic_list())"
    },
    "r": {
     "delete_cmd_postfix": ") ",
     "delete_cmd_prefix": "rm(",
     "library": "var_list.r",
     "varRefreshCmd": "cat(var_dic_list()) "
    }
   },
   "types_to_exclude": [
    "module",
    "function",
    "builtin_function_or_method",
    "instance",
    "_Feature"
   ],
   "window_display": false
  }
 },
 "nbformat": 4,
 "nbformat_minor": 5
}
